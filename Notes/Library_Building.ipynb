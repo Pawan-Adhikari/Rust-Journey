{
 "cells": [
  {
   "cell_type": "markdown",
   "id": "9ff8e901-36ef-40c7-a4cd-9730bb54d546",
   "metadata": {},
   "source": [
    "Key terms\n",
    "\n",
    "CLI tool: Command Line Interface tool is a type of software that can be used at the command line of an operating system.\n",
    "\n",
    "Makefile: A makefile contains targets to compile your code into executable binaries or libraries. It also includes rules for managing dependencies between files and creating distribution packages.\n",
    "\n",
    "debugger: Debugging tools help developers identify issues in their programs by stepping through the code, line by line, while monitoring variable values and other aspects of program execution.\n",
    "\n",
    "library: A collection of reusable functions, structures, macros, traits, and types. Libraries are distributed as binary crates or source code packages on crates.io.\n",
    "\n",
    "Cargo.toml: The configuration file for Cargo that contains metadata about your project such as its name, version, authors, dependencies, and links to documentation.\n",
    "\n",
    "buffered reader: A buffered reader is a type of input stream in Rust which reads data from a source (like stdin) into an internal buffer before providing it to the application for processing. This can improve performance by reducing the number of system calls required for reading small chunks of data.\n",
    "\n",
    "std::io::Stdin: The standard input handle, allowing you to read from user input or pipes in Rust programs."
   ]
  },
  {
   "cell_type": "code",
   "execution_count": 3,
   "id": "596948ea-1837-4dc0-b1f8-6b1a1a403f18",
   "metadata": {},
   "outputs": [],
   "source": [
    "#[derive(Debug)]\n",
    "struct Sizes_struct {\n",
    "    bytes: f64,\n",
    "    kilobytes: f64,\n",
    "    megabytes: f64,\n",
    "    gigabytes: f64,\n",
    "}\n",
    "\n",
    "enum FileSize {\n",
    "    Bytes(f64),\n",
    "    Kilobytes(f64),\n",
    "    Megabytes(f64),\n",
    "    Gigabytes(f64),\n",
    "    None,\n",
    "}\n",
    "\n",
    "impl Sizes_struct {\n",
    "    fn new(bytes: f64, kilobytes: f64, megabytes: f64, gigabytes: f64) -> Sizes_struct {\n",
    "        Sizes_struct { bytes, kilobytes, megabytes, gigabytes }\n",
    "    }\n",
    "}\n",
    "\n",
    "fn format_size(size_str: String) -> Sizes_struct {\n",
    "    let parts: Vec<&str> = size_str.trim().split_whitespace().collect();\n",
    "    if parts.len() < 2 {\n",
    "        panic!(\"Input must contain a size and a unit (e.g., '123 Bytes')\");\n",
    "    }\n",
    "\n",
    "    let size: f64 = parts[0].parse().expect(\"Not a valid number\");\n",
    "    let size_type = parts[1];\n",
    "    let file_type = match size_type.to_uppercase().as_str() {\n",
    "        \"BYTES\" | \"B\" => FileSize::Bytes(size),\n",
    "        \"KILOBYTES\" | \"KB\"=> FileSize::Kilobytes(size),\n",
    "        \"MEGABYTES\" | \"MB\"=> FileSize::Megabytes(size),\n",
    "        \"GIGABYTES\" | \"GB\"=> FileSize::Gigabytes(size),\n",
    "        _ => FileSize::None,\n",
    "    };\n",
    "\n",
    "    let result = match file_type {\n",
    "        FileSize::Bytes(b) => Sizes_struct::new(b, b / 1000.0, b / 1_000_000.0, b / 1_000_000_000.0),\n",
    "        FileSize::Kilobytes(kb) => Sizes_struct::new(kb * 1000.0, kb, kb / 1000.0, kb / 1_000_000.0),\n",
    "        FileSize::Megabytes(mb) => Sizes_struct::new(mb * 1_000_000.0, mb * 1000.0, mb, mb / 1000.0),\n",
    "        FileSize::Gigabytes(gb) => Sizes_struct::new(gb * 1_000_000_000.0, gb / 1_000_000.0, gb * 1000.0, gb),\n",
    "        FileSize::None => Sizes_struct::new(0.0, 0.0, 0.0, 0.0),\n",
    "    };\n",
    "    result\n",
    "}\n",
    "\n",
    "fn main() {\n",
    "    let mut input = String::new();\n",
    "    std::io::stdin().read_line(&mut input).expect(\"Enter a valid string.\");\n",
    "    let result = format_size(input);\n",
    "    println!(\"{:?}\", result);\n",
    "}"
   ]
  },
  {
   "cell_type": "markdown",
   "id": "2d1fdc76-66b0-4a0c-b3d9-6881b24092af",
   "metadata": {},
   "source": [
    "First, we created a handle to stdin (keyboard input).\n",
    "We could have used this handle directly with stdin.read_line(&mut line),\n",
    "but we wanted a more efficient and safe buffered reader that reads input in larger chunks (instead of character-by-character).\n",
    "To do that, we used .lock() to get an exclusive handle, and wrapped it in BufReader::new(...).\n",
    "Now, reader is a locked and buffered handle to stdin, which reads input efficiently using temporary memory (the buffer)."
   ]
  },
  {
   "cell_type": "code",
   "execution_count": null,
   "id": "7938ff4a-3bd8-428d-84a6-a197b8951502",
   "metadata": {},
   "outputs": [],
   "source": [
    "use std::io::{BufReader, BufRead};\n",
    "\n",
    "\n",
    "pub fn read_stdin()-> String\n",
    "{\n",
    "    let stdin = std::io::stdin();\n",
    "    let mut line = String::new();\n",
    "    let mut reader = BufReader::new(stdin.lock());\n",
    "    reader.read_line(&mut line).expect(\"Failed to read the line\");\n",
    "    line.trim().to_string()\n",
    "}"
   ]
  }
 ],
 "metadata": {
  "kernelspec": {
   "display_name": "Rust",
   "language": "rust",
   "name": "rust"
  },
  "language_info": {
   "codemirror_mode": "rust",
   "file_extension": ".rs",
   "mimetype": "text/rust",
   "name": "Rust",
   "pygment_lexer": "rust",
   "version": ""
  }
 },
 "nbformat": 4,
 "nbformat_minor": 5
}
