{
 "cells": [
  {
   "cell_type": "markdown",
   "id": "8ad85d9b-b1b0-49a2-b0fc-4ac4e2855674",
   "metadata": {},
   "source": [
    "\"Match\" Control flow \n",
    "- Same as Switch case in C\n",
    "- We use _ for base case here."
   ]
  },
  {
   "cell_type": "code",
   "execution_count": 5,
   "id": "8e3b4e56-9a01-4881-8ad9-7abab67fff1a",
   "metadata": {},
   "outputs": [
    {
     "name": "stdout",
     "output_type": "stream",
     "text": [
      "See you later!\n"
     ]
    },
    {
     "data": {
      "text/plain": [
       "()"
      ]
     },
     "execution_count": 5,
     "metadata": {},
     "output_type": "execute_result"
    }
   ],
   "source": [
    "\n",
    "    let name = \"Goodbye\";\n",
    "\n",
    "    match name \n",
    "    {\n",
    "        \"Hello\" => println!(\"Hey there!\"),\n",
    "        \"Goodbye\" => println!(\"See you later!\"),\n",
    "        _ => println!(\"I don't know you!\"),\n",
    "    }"
   ]
  },
  {
   "cell_type": "code",
   "execution_count": null,
   "id": "8741ec5c-7255-4865-9568-078b58cec295",
   "metadata": {},
   "outputs": [],
   "source": [
    "    use std::io;\n",
    "    let mut name = String::new();\n",
    "    io::stdin().read_line(&mut name).expect(\"Failed to read line\");\n",
    "    match name.trim()\n",
    "    {\n",
    "        \"Hello\" => println!(\"Hey there!\"),\n",
    "        \"Goodbye\" => println!(\"See you later!\"),    \n",
    "        _ => println!(\"I don't know you!\"),\n",
    "    }\n"
   ]
  },
  {
   "cell_type": "code",
   "execution_count": null,
   "id": "e6c382bd-893e-4255-a7a4-7b109e647a0f",
   "metadata": {},
   "outputs": [],
   "source": []
  }
 ],
 "metadata": {
  "kernelspec": {
   "display_name": "Rust",
   "language": "rust",
   "name": "rust"
  },
  "language_info": {
   "codemirror_mode": "rust",
   "file_extension": ".rs",
   "mimetype": "text/rust",
   "name": "Rust",
   "pygment_lexer": "rust",
   "version": ""
  }
 },
 "nbformat": 4,
 "nbformat_minor": 5
}
