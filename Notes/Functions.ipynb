{
 "cells": [
  {
   "cell_type": "markdown",
   "id": "81af55fe-88dd-4bae-aa5d-456e210fd52a",
   "metadata": {},
   "source": [
    "Key Terms\n",
    "-Functions: Block of code to carry out specific task. Critical part of Rust as Rust is almost like a Pop.\n",
    "-Unit functions: Non return type functions.\n",
    "-Borrowing: Lending values to other parts of the code without taking ownership away from their original scopes.\n",
    "-Panic: Call syntax used to stop all execution in program.\n",
    "-Enumerator: Enum, is a data type representing a set of values where each value represents a distinct case.\n",
    "-Move: Rather than lending just the values(Like in case of borrowing), whole ownership is shifted from one scope to another.\n",
    "-Vector: Dyanmic array. Can shrink or grow.\n",
    "-Shadowing: Temporarily changing the definition and value of a variable within the same scope.\n",
    "\n"
   ]
  },
  {
   "cell_type": "markdown",
   "id": "0a781392-9b91-4d29-aa20-3202e8a08af9",
   "metadata": {},
   "source": [
    "Arguments\n",
    "\n"
   ]
  },
  {
   "cell_type": "code",
   "execution_count": 2,
   "id": "f1f80692-0876-4f11-a818-c35eda50ce4a",
   "metadata": {},
   "outputs": [
    {
     "name": "stdout",
     "output_type": "stream",
     "text": [
      "The sum is 15\n"
     ]
    },
    {
     "data": {
      "text/plain": [
       "()"
      ]
     },
     "execution_count": 2,
     "metadata": {},
     "output_type": "execute_result"
    }
   ],
   "source": [
    "fn sum(numbers: &[i32]) -> i32\n",
    "{\n",
    "    let mut result = 0;\n",
    "    for number in numbers\n",
    "    {\n",
    "        result += number;\n",
    "    }\n",
    "    result\n",
    "}\n",
    "{\n",
    "    let numbers = [1,2,3,4,5];\n",
    "    let result = sum(&numbers);\n",
    "    println!(\"The sum is {}\",result);\n",
    "}"
   ]
  },
  {
   "cell_type": "markdown",
   "id": "b47edb71-d5ba-4612-a475-10e5f1dc05f0",
   "metadata": {},
   "source": [
    "Ownership and move:\n",
    "\n",
    "Every \"value\" in Rust has a owner variable. If we do let l = 10; then the value \"10\" is stored in a memory location/reference and that value is owned by \"l\" variable. If the variable \"l\" goes out of scope, its value \"10\" is also freed. Thus we can say l has the ownership of value \"10\".\n",
    "\n",
    "- In simple terms, Ownership of a value just means who is responsible for the memory of that value.\n",
    "\n",
    "We can change ownership of values in Rust. This concept is called \"move\". Whenever we do something like this:\n"
   ]
  },
  {
   "cell_type": "code",
   "execution_count": 3,
   "id": "46e20ce4-68df-4fbc-ad04-87793adb5c35",
   "metadata": {},
   "outputs": [],
   "source": [
    "let l = 10;\n",
    "let b = l;"
   ]
  },
  {
   "cell_type": "markdown",
   "id": "be56e247-9242-4a7e-9653-1469209d6783",
   "metadata": {},
   "source": [
    "We are not changing ownership of the value \"10\" which is stored in certain memory location to b. We are simply copying the\n",
    "value of l to b thus creating a new memory location with \"10\" value. After we finish our calculations for \"10\" using \"b\" variable, and b goes out of scope, the value \"10\" owned by \"b\" is freed but not the \"10\" owned by \"l\". Thus memory is being used unnecessarily even after we finished our calculations. To prevent this, we could have \"moved\" the ownership of \"10\" from l --> b. \n",
    "\n",
    "But changing ownership of a i32 type is neither necessary nor possible. This is because they are cheap to copy. Just 4 bytes. What we can copy are strings, vectors and custom data types. They are array like structures and can cause memory overflow.\n",
    "\n",
    "Extra: String, Vectore etc are stored in Heap so they require memory cleanup but i32 and other primitive types are stored in stack.\n",
    "\n",
    "Below is an example of ownership transfer(Move) on strings. \n",
    "\n"
   ]
  },
  {
   "cell_type": "code",
   "execution_count": null,
   "id": "a0394c1e-0f81-46dc-9d2b-67e2cb33481f",
   "metadata": {},
   "outputs": [],
   "source": [
    "fn take_ownership(value: String) {\n",
    "    println!(\"I now own the value of my_string which is:  {}.\", value);\n",
    "}\n",
    "\n",
    "fn main() {\n",
    "    let my_string = String::from(\"Hello World\"); // `my_string` owns the value \"Hello World\"\"\n",
    "    take_ownership(my_string); // Ownership of \"Hello World\" is transferred to the function\n",
    "\n",
    "    //println!(\"{}\", my_string);  //Error: `my_string` is no longer valid\n",
    "}"
   ]
  },
  {
   "cell_type": "code",
   "execution_count": null,
   "id": "57a04f1c-6b8f-4466-8d7f-8ac892822a72",
   "metadata": {},
   "outputs": [],
   "source": [
    "Borrowing:"
   ]
  },
  {
   "cell_type": "code",
   "execution_count": null,
   "id": "541ff2fd-d9ab-47e7-9ab3-f0a8059915fe",
   "metadata": {},
   "outputs": [],
   "source": [
    "fn change_int(number: &mut i32) \n",
    "{\n",
    "    *number += 1;\n",
    "}\n",
    "\n",
    "\n",
    "fn main(){\n",
    "\n",
    "    let mut my_int = 10;\n",
    "\n",
    "    change_int(&mut my_int);\n",
    "    println!(\"{}\",my_int);\n",
    "}"
   ]
  },
  {
   "cell_type": "markdown",
   "id": "bcddc603-3534-403b-9648-a2f8de6328dc",
   "metadata": {},
   "source": [
    "- First of all, we are declaring a mutable int, let mut my_int =10;, since we want to change its value.\n",
    "- We wanted to create a function that could take my_int and change it.\n",
    "- This is done in C by creating a pointer and passing reference.\n",
    "- Here also we are passing the reference of my_int into the change_int() function.\n",
    "- But why not just change_int(&my_int) ?? This is because we want the value of my_int to be mutable. We are passing a mutable reference. This means we are passing a reference whose value can be modified. However, it doesn't mean that the reference itself can be mutated. Thus we do change_int(&mut my_int);\n",
    "- If we do \"&mut my_int\" when passing argument, the argument expected by the function shoulld also be of mutable reference type. Thus we do fn change_int(number: &mut i32) but not fn change_int(number: &i32)"
   ]
  },
  {
   "cell_type": "markdown",
   "id": "78afa791-ad1c-4994-b99e-7b0de9bf0e27",
   "metadata": {},
   "source": [
    "In the code above, we didn't change the ownership of the variable my_int but borrowed the value of my_int by passing a mutable reference of my_int. "
   ]
  },
  {
   "cell_type": "code",
   "execution_count": 2,
   "id": "d7bb6de8-fe2c-4e0d-82e2-e3175aab981c",
   "metadata": {},
   "outputs": [],
   "source": [
    "fn change_int(mut number: i32) -> i32\n",
    "{\n",
    "    number = number + 1;\n",
    "    number\n",
    "}\n",
    "\n",
    "\n",
    "fn main(){\n",
    "\n",
    "    let my_int = 10;\n",
    "\n",
    "    //change_int(&mut my_int);\n",
    "    println!(\"{}\",change_int(my_int));\n",
    "}"
   ]
  },
  {
   "cell_type": "markdown",
   "id": "c88d48b5-5b56-4bd0-a1f7-2eba36908909",
   "metadata": {},
   "source": [
    "Here however, we are not borrowing. We are simply copying the value of my_int i.e 10 and using it in the function."
   ]
  },
  {
   "cell_type": "code",
   "execution_count": null,
   "id": "ac076644-4b67-415a-a6d2-63294e3e8b52",
   "metadata": {},
   "outputs": [],
   "source": [
    "\n",
    "    fn main(){\n",
    "        let l = 10;\n",
    "        let b = &l;\n",
    "        println!(\"{}\",b);\n",
    "        //println!(\"{:p}\",b);\n",
    "\n",
    "\n",
    "    }"
   ]
  },
  {
   "cell_type": "markdown",
   "id": "2f0e0e80-c600-4be5-abef-6f3d69208e49",
   "metadata": {},
   "source": [
    "Here however, we are borrowing the value of \"l\" to \"b\" by passing a immutable reference to b. So when we print \"b\", we get the value of \"l\" (not address of \"10\" since println!() deferences pointers automatically. we have to use :p to display the reference)"
   ]
  },
  {
   "cell_type": "markdown",
   "id": "de9c91cb-3c0b-40f8-95eb-4e085454857d",
   "metadata": {},
   "source": [
    "Extra: String, Vectore etc are stored in Heap so they require memory cleanup but i32 and other primitive types are stored in stack.\n",
    "And, string names, array names, slice names are not pointers to the first element of the array. pointers to first element of these is given my .as_ptr() method.\n"
   ]
  },
  {
   "cell_type": "code",
   "execution_count": 12,
   "id": "4dacdd18-421c-40a0-8476-88b891237f6d",
   "metadata": {},
   "outputs": [
    {
     "name": "stdout",
     "output_type": "stream",
     "text": [
      "[1, 2, 3, 4][1, 2, 3, 4]0x16f4c6b40\n"
     ]
    },
    {
     "data": {
      "text/plain": [
       "()"
      ]
     },
     "execution_count": 12,
     "metadata": {},
     "output_type": "execute_result"
    }
   ],
   "source": [
    "{let arr = [1, 2, 3, 4];\n",
    "let slice = &arr;\n",
    "let ptr = arr.as_ptr();  // *const i32\n",
    "\n",
    "println!(\"{:?}{:?}{:?}\",arr,slice,ptr);\n",
    "}"
   ]
  },
  {
   "cell_type": "markdown",
   "id": "07199d32-7c85-4b2f-87ba-c019bc1a2194",
   "metadata": {},
   "source": [
    "Panic:\n",
    "In languages like JavaScript, you have a throw where you can throw errors, throw exceptions, and in Python you can raise these exceptions. In languages like Golang and Rust, you have the ability to call a panic."
   ]
  },
  {
   "cell_type": "code",
   "execution_count": 3,
   "id": "58bc8ddf-f51b-4c31-bbbe-2e16d58b2304",
   "metadata": {},
   "outputs": [
    {
     "name": "stdout",
     "output_type": "stream",
     "text": [
      "1\n",
      "2\n",
      "3\n",
      "4\n"
     ]
    },
    {
     "name": "stderr",
     "output_type": "stream",
     "text": [
      "\n",
      "thread '<unnamed>' panicked at src/lib.rs:8:13:\n",
      "Negative number found; crashing the program\n",
      "stack backtrace:\n",
      "   0: __rustc::rust_begin_unwind\n",
      "   1: core::panicking::panic_fmt\n",
      "   2: ctx::loop_and_panic\n",
      "   3: std::panic::catch_unwind\n",
      "   4: _run_user_code_1\n",
      "   5: evcxr::runtime::Runtime::run_loop\n",
      "   6: evcxr::runtime::runtime_hook\n",
      "   7: evcxr_jupyter::main\n",
      "note: Some details are omitted, run with `RUST_BACKTRACE=full` for a verbose backtrace.\n"
     ]
    }
   ],
   "source": [
    "fn loop_and_panic(vec : Vec<i32>)\n",
    "{\n",
    "    for num in vec\n",
    "    {\n",
    "        if num < 0\n",
    "        {\n",
    "            panic!(\"Negative number found; crashing the program\");\n",
    "        }\n",
    "        println!(\"{}\",num);\n",
    "    }\n",
    "}\n",
    "\n",
    "\n",
    "{\n",
    "    let numbers = vec![1,2,3,4,-5];\n",
    "    loop_and_panic(numbers);\n",
    "}"
   ]
  },
  {
   "cell_type": "code",
   "execution_count": 4,
   "id": "4d7eadc0-ca37-4d96-85bd-058d2ee068c7",
   "metadata": {},
   "outputs": [
    {
     "name": "stdout",
     "output_type": "stream",
     "text": [
      "File not found!\n"
     ]
    },
    {
     "data": {
      "text/plain": [
       "()"
      ]
     },
     "execution_count": 4,
     "metadata": {},
     "output_type": "execute_result"
    }
   ],
   "source": [
    "use std::io::BufReader;\n",
    "use std::fs::File;\n",
    "use std::io::BufRead;\n",
    "\n",
    "{\n",
    "    let file = File::open(\"non_existing_file.txt\");\n",
    "    match file\n",
    "    {\n",
    "        Ok(file) => {\n",
    "            let reader = BufReader::new(file);\n",
    "            for line in reader.lines(){\n",
    "                println!(\"{}\",line.unwrap());\n",
    "            }\n",
    "        }\n",
    "        Err(error) =>\n",
    "        {   \n",
    "            match error.kind()\n",
    "            {\n",
    "                std::io::ErrorKind::NotFound =>\n",
    "                {\n",
    "                    println!(\"File not found!\");\n",
    "                }\n",
    "                _ =>\n",
    "                {\n",
    "                    println!(\"Error opening the file!\");\n",
    "                }\n",
    "            };\n",
    "        }\n",
    "    };\n",
    "}"
   ]
  },
  {
   "cell_type": "markdown",
   "id": "69b6876d-4518-41f8-abe0-74e08ac97b11",
   "metadata": {},
   "source": [
    "First, we had to import File type from \"fs\".Then we opened the file and assigned it to pointer named \"file\". Then we used match to check if the file had opened properly. The first condition Ok(file) and second is Err(error). They are the variants of the enum Resut which is defined as:"
   ]
  },
  {
   "cell_type": "code",
   "execution_count": 5,
   "id": "52fb3cbb-7f07-421a-98b4-f4a168ead5ba",
   "metadata": {},
   "outputs": [],
   "source": [
    "enum Result<T, E> {\n",
    "    Ok(T),\n",
    "    Err(E),\n",
    "}\n"
   ]
  },
  {
   "cell_type": "markdown",
   "id": "921300fb-3ed9-495f-8b8d-129a43fae1f7",
   "metadata": {},
   "source": [
    "Here, T is replaced by a variable of type same as the one in \"match <variable> {}\" and contains the value of that same variable. Also, Ok(T) binds the newly created value into its scope. i.e:"
   ]
  },
  {
   "cell_type": "code",
   "execution_count": null,
   "id": "38c79c5d-b297-4d9e-a169-4dbfb9c58183",
   "metadata": {},
   "outputs": [
    {
     "ename": "Error",
     "evalue": "cannot find value `some_file` in this scope",
     "output_type": "error",
     "traceback": [
      "\u001b[31m[E0425] Error:\u001b[0m cannot find value `some_file` in this scope",
      "   \u001b[38;5;246m╭\u001b[0m\u001b[38;5;246m─\u001b[0m\u001b[38;5;246m[\u001b[0mcommand_6:1:1\u001b[38;5;246m]\u001b[0m",
      "   \u001b[38;5;246m│\u001b[0m",
      " \u001b[38;5;246m2 │\u001b[0m \u001b[38;5;249ml\u001b[0m\u001b[38;5;249me\u001b[0m\u001b[38;5;249mt\u001b[0m\u001b[38;5;249m \u001b[0m\u001b[38;5;249mf\u001b[0m\u001b[38;5;249mi\u001b[0m\u001b[38;5;249ml\u001b[0m\u001b[38;5;249me\u001b[0m\u001b[38;5;249m \u001b[0m\u001b[38;5;249m=\u001b[0m\u001b[38;5;249m \u001b[0m\u001b[38;5;249mO\u001b[0m\u001b[38;5;249mk\u001b[0m\u001b[38;5;249m(\u001b[0m\u001b[38;5;54ms\u001b[0m\u001b[38;5;54mo\u001b[0m\u001b[38;5;54mm\u001b[0m\u001b[38;5;54me\u001b[0m\u001b[38;5;54m_\u001b[0m\u001b[38;5;54mf\u001b[0m\u001b[38;5;54mi\u001b[0m\u001b[38;5;54ml\u001b[0m\u001b[38;5;54me\u001b[0m\u001b[38;5;249m)\u001b[0m\u001b[38;5;249m;\u001b[0m\u001b[38;5;249m \u001b[0m\u001b[38;5;249m \u001b[0m\u001b[38;5;249m/\u001b[0m\u001b[38;5;249m/\u001b[0m\u001b[38;5;249m \u001b[0m\u001b[38;5;249mf\u001b[0m\u001b[38;5;249mi\u001b[0m\u001b[38;5;249ml\u001b[0m\u001b[38;5;249me\u001b[0m\u001b[38;5;249m \u001b[0m\u001b[38;5;249m=\u001b[0m\u001b[38;5;249m \u001b[0m\u001b[38;5;249mR\u001b[0m\u001b[38;5;249me\u001b[0m\u001b[38;5;249ms\u001b[0m\u001b[38;5;249mu\u001b[0m\u001b[38;5;249ml\u001b[0m\u001b[38;5;249mt\u001b[0m\u001b[38;5;249m<\u001b[0m\u001b[38;5;249mF\u001b[0m\u001b[38;5;249mi\u001b[0m\u001b[38;5;249ml\u001b[0m\u001b[38;5;249me\u001b[0m\u001b[38;5;249m,\u001b[0m\u001b[38;5;249m \u001b[0m\u001b[38;5;249mE\u001b[0m\u001b[38;5;249mr\u001b[0m\u001b[38;5;249mr\u001b[0m\u001b[38;5;249mo\u001b[0m\u001b[38;5;249mr\u001b[0m\u001b[38;5;249m>\u001b[0m",
      " \u001b[38;5;240m  │\u001b[0m               \u001b[38;5;54m─\u001b[0m\u001b[38;5;54m─\u001b[0m\u001b[38;5;54m─\u001b[0m\u001b[38;5;54m─\u001b[0m\u001b[38;5;54m┬\u001b[0m\u001b[38;5;54m─\u001b[0m\u001b[38;5;54m─\u001b[0m\u001b[38;5;54m─\u001b[0m\u001b[38;5;54m─\u001b[0m  ",
      " \u001b[38;5;240m  │\u001b[0m                   \u001b[38;5;54m╰\u001b[0m\u001b[38;5;54m─\u001b[0m\u001b[38;5;54m─\u001b[0m\u001b[38;5;54m─\u001b[0m\u001b[38;5;54m─\u001b[0m\u001b[38;5;54m─\u001b[0m\u001b[38;5;54m─\u001b[0m not found in this scope",
      "\u001b[38;5;246m───╯\u001b[0m"
     ]
    },
    {
     "ename": "Error",
     "evalue": "`Result<(), EvcxrUserCodeError>` is defined in the current crate",
     "output_type": "error",
     "traceback": [
      "\u001b[31mError:\u001b[0m `Result<(), EvcxrUserCodeError>` is defined in the current crate"
     ]
    }
   ],
   "source": [
    "let x = 10;         // Outer x = 10\n",
    "let file = Ok(some_file);  // file = Result<File, Error>\n",
    "\n",
    "match file {\n",
    "    Ok(x) => {       // New inner variable x shadows outer x\n",
    "        // Here, x = some_file (the inner value)\n",
    "        println!(\"{:?}\", x);  // prints the File\n",
    "    }\n",
    "    Err(e) => { /* ... */ }\n",
    "}\n",
    "\n",
    "// Outside the match, x is still 10\n",
    "println!(\"{}\", x);  // prints 10"
   ]
  },
  {
   "cell_type": "markdown",
   "id": "35bf9ffc-03b5-414a-a537-92c9731c8dcf",
   "metadata": {},
   "source": [
    "Here, Ok(x) created a new variable named \"x\" and assigned it the value of \"file\" (from outer scope) shadowing the value of \"x\" declared in outer scope. Since we are shadowing, the new \"x\" exists inside the scope of \"OK(x)\" only. "
   ]
  }
 ],
 "metadata": {
  "kernelspec": {
   "display_name": "Rust",
   "language": "rust",
   "name": "rust"
  },
  "language_info": {
   "codemirror_mode": "rust",
   "file_extension": ".rs",
   "mimetype": "text/rust",
   "name": "Rust",
   "pygment_lexer": "rust",
   "version": ""
  }
 },
 "nbformat": 4,
 "nbformat_minor": 5
}
