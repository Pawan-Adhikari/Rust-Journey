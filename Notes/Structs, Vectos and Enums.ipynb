{
 "cells": [
  {
   "cell_type": "markdown",
   "id": "312ca728-5a8f-4315-a19a-d4ff5a336477",
   "metadata": {},
   "source": [
    "Key Terms\n",
    "Struct: A keyword used to organize similar data in a structure. It is like an object in JavaScript or Python dictionary where you are organizing data in a structured way.\n",
    "\n",
    "Field: The values of the struct, such as first name and last name string for person struct.\n",
    "\n",
    "Debug: An attribute that allows printing the whole struct instead of specific fields.\n",
    "\n",
    "Type: The kind of value each field can hold, such as string or unsigned integer 8 bits in size (u8).\n",
    "\n",
    "Instance: A created struct with data in its fields, like Fredo equals person with first name Sanchez and age H25.\n",
    "\n",
    "Option: Represents the absence of a value or a specific type that could be (for example) an unsigned integer for eight bits in size (u8) or none.\n",
    "\n",
    "Implementation: A keyword used to extend struct by adding functions and associated code.\n",
    "\n",
    "Associated Function: A function that doesn't require self, allowing easy creation of a user instance with new constructor.\n",
    "\n",
    "Constructor: Automates tedious repetitive tasks when creating instances, like setting the active field to true in user struct.\n",
    "\n",
    "Immutable: Cannot be changed after initialization, such as new user being immutable by default.\n",
    "\n"
   ]
  },
  {
   "cell_type": "markdown",
   "id": "f00df517-349b-4e81-80d2-70c9133cf8fd",
   "metadata": {},
   "source": [
    "Struct:"
   ]
  },
  {
   "cell_type": "code",
   "execution_count": null,
   "id": "fbb3e2d5-2261-4743-a6d3-cc1ed8fb1788",
   "metadata": {},
   "outputs": [],
   "source": [
    "#[derive(Debug)]\n",
    "\n",
    "struct person\n",
    "{\n",
    "    first_name : String,\n",
    "    last_name : String,\n",
    "    age : u8,\n",
    "}\n",
    "\n",
    "fn main()\n",
    "{\n",
    "\n",
    "    let person1 = person{\n",
    "       first_name: \"Pawan\".to_string(),\n",
    "       last_name: \"Adhikari\".to_string(),\n",
    "      age: 19,\n",
    "    };\n",
    "    \n",
    "    println!(\"{:?}\",person1);\n",
    "    \n",
    "    /*println!(\"{:?}\",person{\n",
    "        first_name: \"Pawan\".to_string(),\n",
    "        last_name: \"Adhikari\".to_string(),\n",
    "        age: 19,\n",
    "    });*/\n",
    "    \n",
    "    \n",
    "}"
   ]
  },
  {
   "cell_type": "markdown",
   "id": "167930c9-93c6-4649-85d8-63bf0d21d40a",
   "metadata": {},
   "source": [
    "In Rust, struct contains fields. The fields are defined during struct definition where we specify their names and their data types.\n",
    "\n",
    "In the above example, we tried to print in the struct after creating an instance of the struct \"person\" giving it the name person1.\n",
    "\n",
    "The first line of code, #[derive(Debug)], is needed to enable the Debug trait for the person struct. This allows you to use the {:?} format specifier in the println! macro to print the struct's contents in a human-readable format.\n",
    "\n",
    "Why #[derive(Debug)] is Needed:\n",
    "Debug Trait:\n",
    "\n",
    "The Debug trait is a built-in Rust trait that allows types to be formatted using the {:?} or {:#?} format specifiers.\n",
    "By default, custom structs like person do not implement the Debug trait, so you cannot print them using println!(\"{:?}\", ...) unless the trait is explicitly derived or implemented.\n",
    "Without #[derive(Debug)]:\n",
    "\n",
    "If you remove the #[derive(Debug)] line, the following code will result in a compile-time error:"
   ]
  },
  {
   "cell_type": "code",
   "execution_count": 5,
   "id": "addc19df-ac5f-41fc-afb3-0a8be2038303",
   "metadata": {},
   "outputs": [
    {
     "name": "stdout",
     "output_type": "stream",
     "text": [
      "points:10,20,30\n"
     ]
    },
    {
     "data": {
      "text/plain": [
       "()"
      ]
     },
     "execution_count": 5,
     "metadata": {},
     "output_type": "execute_result"
    }
   ],
   "source": [
    "{struct point(i32,i32,i32);\n",
    "let my_point = point(10,20,30);\n",
    "println!(\"points:{},{},{}\", my_point.0, my_point.1, my_point.2);\n",
    "}  \n",
    "    "
   ]
  },
  {
   "cell_type": "markdown",
   "id": "dce93eb3-fdc0-4a9c-b02d-dcddb81ffdbe",
   "metadata": {},
   "source": [
    "point is a tuple struct. my_point is an instance of it."
   ]
  },
  {
   "cell_type": "markdown",
   "id": "60ddd199-0787-4030-95a9-5c157fcf9ba5",
   "metadata": {},
   "source": [
    "String and str types in Rust:"
   ]
  },
  {
   "cell_type": "code",
   "execution_count": null,
   "id": "b8bed42c-e37a-43d5-8c56-6d70b1d3f9e3",
   "metadata": {},
   "outputs": [],
   "source": [
    "fn main() {\n",
    "    // Create a mutable String\n",
    "    let mut greeting = String::from(\"Hello\");\n",
    "\n",
    "    // Append a string slice to String\n",
    "    greeting.push_str(\", world!\");\n",
    "    greeting.push_str(\"Whats up ?\");\n",
    "\n",
    "    // Print the full string\n",
    "    println!(\"{}\", greeting);\n",
    "\n",
    "\n",
    "    println!(\"{:?}\", greeting.chars());\n",
    "    println!(\"{:?}\", greeting.bytes());\n",
    "\n",
    "\n",
    "\n",
    "    // Create a string slice\n",
    "    let slice: &str = &greeting[0..5];\n",
    "    println!(\"Slice: {}\", slice);\n",
    "\n",
    "    // Show length of string\n",
    "    println!(\"Length: {}\", greeting.len());\n",
    "}\n"
   ]
  },
  {
   "cell_type": "code",
   "execution_count": 2,
   "id": "2d462fbb-597c-4664-950a-7788e890b23b",
   "metadata": {},
   "outputs": [],
   "source": [
    "fn main() {\n",
    "    // Create a vector of integers\n",
    "    let mut numbers = vec![10, 20, 30];\n",
    "\n",
    "    // Access elements\n",
    "    println!(\"First number: {}\", numbers[0]);\n",
    "\n",
    "    // Add elements to the vector\n",
    "    numbers.push(40);\n",
    "    numbers.push(50);\n",
    "    numbers.push(60);\n",
    "\n",
    "    // Print all numbers using a loop\n",
    "    for num in &numbers {\n",
    "        println!(\"Number: {}\", num);\n",
    "    }\n",
    "\n",
    "    println!(\"Number at 0 index, normal way : {:?}\",numbers[0]); //number at 0th index. \n",
    "    println!(\"Number at 0 index, using .get(): {:?}\",numbers.get(0)); //number at 0th index, but handled safely by using .get() which is an option and considers cases of none value too. Thus must be unwrapped.\n",
    "    println!(\"Number at 0 index, using .get() and .unwrap(): {:?}\",numbers.get(0).unwrap());\n",
    "\n",
    "    let mut sum = 0;\n",
    "    for number in &numbers{\n",
    "        sum += number;\n",
    "    }\n",
    "    println!(\"The sum of all the numbers in the vector is: {}\", sum);\n",
    "    // Modify an element\n",
    "    numbers[1] = 25;\n",
    "\n",
    "    // Remove the last element\n",
    "    numbers.pop();\n",
    "\n",
    "    println!(\"Final vector: {:?}\", numbers);\n",
    "}\n"
   ]
  },
  {
   "cell_type": "code",
   "execution_count": null,
   "id": "727c9749-97ab-437e-8cb5-fb5f5658cc48",
   "metadata": {},
   "outputs": [
    {
     "ename": "Error",
     "evalue": "type annotations needed for `Vec<_>`",
     "output_type": "error",
     "traceback": [
      "\u001b[31m[E0282] Error:\u001b[0m type annotations needed for `Vec<_>`",
      "   \u001b[38;5;246m╭\u001b[0m\u001b[38;5;246m─\u001b[0m\u001b[38;5;246m[\u001b[0mcommand_3:1:1\u001b[38;5;246m]\u001b[0m",
      "   \u001b[38;5;246m│\u001b[0m",
      " \u001b[38;5;246m4 │\u001b[0m \u001b[38;5;249m \u001b[0m\u001b[38;5;249m \u001b[0m\u001b[38;5;249m \u001b[0m\u001b[38;5;249m \u001b[0m\u001b[38;5;249ml\u001b[0m\u001b[38;5;249me\u001b[0m\u001b[38;5;249mt\u001b[0m\u001b[38;5;249m \u001b[0m\u001b[38;5;100mm\u001b[0m\u001b[38;5;100mu\u001b[0m\u001b[38;5;100mt\u001b[0m\u001b[38;5;100m \u001b[0m\u001b[38;5;100mf\u001b[0m\u001b[38;5;100mr\u001b[0m\u001b[38;5;100mu\u001b[0m\u001b[38;5;100mi\u001b[0m\u001b[38;5;100mt\u001b[0m\u001b[38;5;100ms\u001b[0m\u001b[38;5;100m1\u001b[0m\u001b[38;5;249m \u001b[0m\u001b[38;5;249m=\u001b[0m\u001b[38;5;249m \u001b[0m\u001b[38;5;54mV\u001b[0m\u001b[38;5;54me\u001b[0m\u001b[38;5;54mc\u001b[0m\u001b[38;5;54m:\u001b[0m\u001b[38;5;54m:\u001b[0m\u001b[38;5;54mn\u001b[0m\u001b[38;5;54me\u001b[0m\u001b[38;5;54mw\u001b[0m\u001b[38;5;54m(\u001b[0m\u001b[38;5;54m)\u001b[0m\u001b[38;5;249m;\u001b[0m",
      " \u001b[38;5;240m  │\u001b[0m         \u001b[38;5;100m─\u001b[0m\u001b[38;5;100m─\u001b[0m\u001b[38;5;100m─\u001b[0m\u001b[38;5;100m─\u001b[0m\u001b[38;5;100m─\u001b[0m\u001b[38;5;100m┬\u001b[0m\u001b[38;5;100m─\u001b[0m\u001b[38;5;100m─\u001b[0m\u001b[38;5;100m─\u001b[0m\u001b[38;5;100m─\u001b[0m\u001b[38;5;100m─\u001b[0m\u001b[38;5;68m│\u001b[0m  \u001b[38;5;54m─\u001b[0m\u001b[38;5;54m─\u001b[0m\u001b[38;5;54m─\u001b[0m\u001b[38;5;54m─\u001b[0m\u001b[38;5;54m─\u001b[0m\u001b[38;5;54m┬\u001b[0m\u001b[38;5;54m─\u001b[0m\u001b[38;5;54m─\u001b[0m\u001b[38;5;54m─\u001b[0m\u001b[38;5;54m─\u001b[0m  ",
      " \u001b[38;5;240m  │\u001b[0m              \u001b[38;5;100m╰\u001b[0m\u001b[38;5;100m─\u001b[0m\u001b[38;5;100m─\u001b[0m\u001b[38;5;100m─\u001b[0m\u001b[38;5;100m─\u001b[0m\u001b[38;5;100m─\u001b[0m\u001b[38;5;100m─\u001b[0m\u001b[38;5;100m─\u001b[0m\u001b[38;5;100m─\u001b[0m\u001b[38;5;100m─\u001b[0m\u001b[38;5;100m─\u001b[0m\u001b[38;5;100m─\u001b[0m\u001b[38;5;100m─\u001b[0m\u001b[38;5;100m─\u001b[0m\u001b[38;5;100m─\u001b[0m\u001b[38;5;100m─\u001b[0m\u001b[38;5;100m─\u001b[0m\u001b[38;5;100m─\u001b[0m\u001b[38;5;100m─\u001b[0m\u001b[38;5;100m─\u001b[0m\u001b[38;5;100m─\u001b[0m error: type annotations needed for `Vec<_>`",
      " \u001b[38;5;240m  │\u001b[0m                    \u001b[38;5;68m│\u001b[0m       \u001b[38;5;54m│\u001b[0m      ",
      " \u001b[38;5;240m  │\u001b[0m                    \u001b[38;5;68m╰\u001b[0m\u001b[38;5;68m─\u001b[0m\u001b[38;5;68m─\u001b[0m\u001b[38;5;68m─\u001b[0m\u001b[38;5;68m─\u001b[0m\u001b[38;5;68m─\u001b[0m\u001b[38;5;68m─\u001b[0m\u001b[38;5;68m─\u001b[0m\u001b[38;5;68m─\u001b[0m\u001b[38;5;68m─\u001b[0m\u001b[38;5;68m─\u001b[0m\u001b[38;5;68m─\u001b[0m\u001b[38;5;68m─\u001b[0m\u001b[38;5;68m─\u001b[0m\u001b[38;5;68m─\u001b[0m help: consider giving `fruits1` an explicit type, where the type for type parameter `T` is specified: `: Vec<T>`",
      " \u001b[38;5;240m  │\u001b[0m                            \u001b[38;5;54m│\u001b[0m      ",
      " \u001b[38;5;240m  │\u001b[0m                            \u001b[38;5;54m╰\u001b[0m\u001b[38;5;54m─\u001b[0m\u001b[38;5;54m─\u001b[0m\u001b[38;5;54m─\u001b[0m\u001b[38;5;54m─\u001b[0m\u001b[38;5;54m─\u001b[0m\u001b[38;5;54m─\u001b[0m type must be known at this point",
      "\u001b[38;5;246m───╯\u001b[0m"
     ]
    }
   ],
   "source": [
    "fn main() {\n",
    "    let mut fruits = Vec::new();\n",
    "\n",
    "    let mut fruits1 = Vec::new();\n",
    "    // Add fruit names\n",
    "    fruits.push(String::from(\"Apple\"));\n",
    "    fruits.push(String::from(\"Banana\"));\n",
    "    fruits.push(String::from(\"Cherry\"));\n",
    "\n",
    "    let mut fruits_string = fruits.join(\",\");\n",
    "\n",
    "    // Iterate and print each fruit in uppercase\n",
    "    for fruit in &fruits {\n",
    "        println!(\"{}\", fruit.to_uppercase());\n",
    "    }\n",
    "\n",
    "    println!(\"{:?}\", fruits_string);\n",
    "\n",
    "    // Remove the second fruit\n",
    "    fruits.remove(1);\n",
    "\n",
    "    println!(\"Fruits after removal: {:?}\", fruits);\n",
    "}\n"
   ]
  },
  {
   "cell_type": "code",
   "execution_count": 6,
   "id": "e1d51985-41ae-4188-adfa-211f8c502b63",
   "metadata": {},
   "outputs": [
    {
     "name": "stdout",
     "output_type": "stream",
     "text": [
      "After append:\n",
      "vec1: [1, 2, 3, 4, 5, 6]\n",
      "vec2: []\n",
      "After extend:\n",
      "vec1: [1, 2, 3, 4, 5, 6, 7, 8, 9]\n",
      "vec3: [7, 8, 9]\n",
      "After extend:\n",
      "vec4: [1, 2, 3, 7, 8, 9]\n"
     ]
    },
    {
     "data": {
      "text/plain": [
       "()"
      ]
     },
     "execution_count": 6,
     "metadata": {},
     "output_type": "execute_result"
    }
   ],
   "source": [
    " {\n",
    "    let mut vec1 = vec![1, 2, 3];\n",
    "    let mut vec2 = vec![4, 5, 6];\n",
    "    let vec3 = vec![7, 8, 9];\n",
    "    let mut vec4 = vec![1,2,3];\n",
    "\n",
    "    vec1.append(&mut vec2); // Moves elements from `vec2` to `vec1`\n",
    "    println!(\"After append:\");\n",
    "    println!(\"vec1: {:?}\", vec1); // Outputs: [1, 2, 3, 4, 5, 6]\n",
    "    println!(\"vec2: {:?}\", vec2); // Outputs: [] (now empty)\n",
    "\n",
    "    vec1.extend(&vec3); // Clones elements from `vec3` into `vec1`\n",
    "    println!(\"After extend:\");\n",
    "    println!(\"vec1: {:?}\", vec1); // Outputs: [1, 2, 3, 4, 5, 6, 7, 8, 9]\n",
    "    println!(\"vec3: {:?}\", vec3); // Outputs: [7, 8, 9] (unchanged)\n",
    "\n",
    "    vec4.extend(vec3); // Clones elements from `vec3` into `vec1`\n",
    "    println!(\"After extend:\");\n",
    "    println!(\"vec4: {:?}\", vec4); // Outputs: [1, 2, 3, 4, 5, 6, 7, 8, 9]\n",
    "    //println!(\"vec3: {:?}\", vec3); // Outputs: [7, 8, 9] (expected) but this will result to a compile error since we passed the whole vec3 instead of its reference, &vec3, so ownership of vec3 was trasnfered to vec4 and it cannot be borrowed after ownership transfer.    \n",
    "}"
   ]
  },
  {
   "cell_type": "markdown",
   "id": "c93baf1d-ea14-4f66-aef4-c452e526fbf6",
   "metadata": {},
   "source": [
    "Here, were are exploring two methods to add (using another vector) into a vector:\n",
    ".extend() and .append().\n",
    "\n",
    "Whenever we pass a vector \"reference\" to .extend(), we are borrowing an immutable reference to the values of vector we want to copy from and then we are adding those values into the destination vector. There is no ownership transfer.\n",
    "\n",
    "But whenever we pass a vector itself to .extend(), we are transfering the ownership of values of original source vector and adding them to our destination vector. The reference to first source vector no longer exists and cannot be borrowed.\n",
    "\n",
    "For .append(), we can only pass a mutable reference of the source vector. .append takes the value from that reference and moves that value over to the destination vector.\n",
    "\n",
    "1. What Happens When You Use .append()?\n",
    "When you call vec1.append(&mut vec2), the following happens:\n",
    "\n",
    "Ownership Transfer:\n",
    "The elements of vec2 are moved into vec1. This means the ownership of the elements in vec2 is transferred to vec1.\n",
    "Memory Management:\n",
    "The memory holding the elements of vec2 is not freed. Instead, vec2's length is set to 0, and its capacity remains unchanged. The memory allocated for vec2 is still reserved, but it is now empty.\n",
    "Contiguous Memory:\n",
    "The elements from vec2 are appended to the end of vec1's contiguous memory block. If vec1 does not have enough capacity to hold the new elements, it reallocates its memory to a larger block and copies all its elements (including those from vec2) into the new block.\n",
    "\n",
    "2. Why Doesn't an Empty Vector Print Garbage Values?\n",
    "In Rust, when you print an empty vector (e.g., vec2 after append), it does not print garbage values because:\n",
    "\n",
    "Length is Set to 0:\n",
    "After the append, vec2's length is explicitly set to 0. This means Rust knows there are no valid elements to print.\n",
    "Memory Safety:\n",
    "Rust ensures memory safety by not allowing access to uninitialized or invalid memory. Even though the memory previously used by vec2 is still allocated, it is not considered part of the vector because the length is 0.\n",
    "\n",
    "3. What Happens When You Use .extend() with a Source Vector?\n",
    "When you call .extend() with a source vector, the behavior depends on whether you pass the source vector by value or by reference:\n",
    "\n",
    "Case 1: Passing by Reference (&vec3)\n",
    "Cloning:\n",
    "The elements of vec3 are cloned into vec1. The original vec3 remains unchanged.\n",
    "Memory Management:\n",
    "The memory of vec3 is not affected because it is only borrowed.\n",
    "Case 2: Passing by Value (vec3)\n",
    "Ownership Transfer:\n",
    "The ownership of vec3 is transferred to vec1. This means vec3 becomes invalid after the extend call.\n",
    "Memory Management:\n",
    "Both the memory holding the elements of vec3 and the memory holding vec3 itself are freed. This is why vec3 cannot be used after the extend call."
   ]
  },
  {
   "cell_type": "code",
   "execution_count": null,
   "id": "cb4722a9-dcae-43c7-be08-5f5a25e23899",
   "metadata": {},
   "outputs": [],
   "source": []
  },
  {
   "cell_type": "code",
   "execution_count": null,
   "id": "772a89d8-3b4b-4a8f-8dc3-bd3f9cdacd92",
   "metadata": {},
   "outputs": [],
   "source": []
  }
 ],
 "metadata": {
  "kernelspec": {
   "display_name": "Rust",
   "language": "rust",
   "name": "rust"
  },
  "language_info": {
   "codemirror_mode": "rust",
   "file_extension": ".rs",
   "mimetype": "text/rust",
   "name": "Rust",
   "pygment_lexer": "rust",
   "version": ""
  }
 },
 "nbformat": 4,
 "nbformat_minor": 5
}
