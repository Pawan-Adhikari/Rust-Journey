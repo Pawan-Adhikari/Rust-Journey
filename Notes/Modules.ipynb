{
 "cells": [
  {
   "cell_type": "markdown",
   "id": "868d3018-6bcc-4095-8f9a-c8bf316eee44",
   "metadata": {},
   "source": [
    "# "
   ]
  },
  {
   "cell_type": "markdown",
   "id": "10f223a8-ba81-4ee6-95bd-15b0953217fb",
   "metadata": {},
   "source": [
    "Dependencies are external packages (called crates in Rust) that your project uses to reuse existing codes.\n",
    "A library project can be added as a dependency in another project in rust.\n",
    "For Eg:"
   ]
  },
  {
   "cell_type": "code",
   "execution_count": null,
   "id": "6aea1d2f-2a19-47f7-9a20-d36b08a4b5bd",
   "metadata": {},
   "outputs": [
    {
     "ename": "Error",
     "evalue": "expected `;`, found `name`",
     "output_type": "error",
     "traceback": [
      "\u001b[31mError:\u001b[0m expected `;`, found `name`",
      "   \u001b[38;5;246m╭\u001b[0m\u001b[38;5;246m─\u001b[0m\u001b[38;5;246m[\u001b[0mcommand_2:1:1\u001b[38;5;246m]\u001b[0m",
      "   \u001b[38;5;246m│\u001b[0m",
      " \u001b[38;5;246m1 │\u001b[0m \u001b[38;5;249m[\u001b[0m\u001b[38;5;249mp\u001b[0m\u001b[38;5;249ma\u001b[0m\u001b[38;5;249mc\u001b[0m\u001b[38;5;249mk\u001b[0m\u001b[38;5;249ma\u001b[0m\u001b[38;5;249mg\u001b[0m\u001b[38;5;249me\u001b[0m\u001b[38;5;249m]\u001b[0m",
      " \u001b[38;5;240m  │\u001b[0m          \u001b[38;5;100m│\u001b[0m ",
      " \u001b[38;5;240m  │\u001b[0m          \u001b[38;5;100m╰\u001b[0m\u001b[38;5;100m─\u001b[0m error: expected `;`, found `name`",
      " \u001b[38;5;240m  │\u001b[0m          \u001b[38;5;68m│\u001b[0m ",
      " \u001b[38;5;240m  │\u001b[0m          \u001b[38;5;68m╰\u001b[0m\u001b[38;5;68m─\u001b[0m help: add `;` here: `;`",
      " \u001b[38;5;246m2 │\u001b[0m \u001b[38;5;54mn\u001b[0m\u001b[38;5;54ma\u001b[0m\u001b[38;5;54mm\u001b[0m\u001b[38;5;54me\u001b[0m\u001b[38;5;249m \u001b[0m\u001b[38;5;249m=\u001b[0m\u001b[38;5;249m \u001b[0m\u001b[38;5;249m\"\u001b[0m\u001b[38;5;249mR\u001b[0m\u001b[38;5;249mu\u001b[0m\u001b[38;5;249ms\u001b[0m\u001b[38;5;249mt\u001b[0m\u001b[38;5;249m-\u001b[0m\u001b[38;5;249mJ\u001b[0m\u001b[38;5;249mo\u001b[0m\u001b[38;5;249mu\u001b[0m\u001b[38;5;249mr\u001b[0m\u001b[38;5;249mn\u001b[0m\u001b[38;5;249me\u001b[0m\u001b[38;5;249my\u001b[0m\u001b[38;5;249m\"\u001b[0m",
      " \u001b[38;5;240m  │\u001b[0m \u001b[38;5;54m─\u001b[0m\u001b[38;5;54m─\u001b[0m\u001b[38;5;54m┬\u001b[0m\u001b[38;5;54m─\u001b[0m  ",
      " \u001b[38;5;240m  │\u001b[0m   \u001b[38;5;54m╰\u001b[0m\u001b[38;5;54m─\u001b[0m\u001b[38;5;54m─\u001b[0m\u001b[38;5;54m─\u001b[0m unexpected token",
      "\u001b[38;5;246m───╯\u001b[0m"
     ]
    },
    {
     "ename": "Error",
     "evalue": "expected `;`, found `version`",
     "output_type": "error",
     "traceback": [
      "\u001b[31mError:\u001b[0m expected `;`, found `version`",
      "   \u001b[38;5;246m╭\u001b[0m\u001b[38;5;246m─\u001b[0m\u001b[38;5;246m[\u001b[0mcommand_2:1:1\u001b[38;5;246m]\u001b[0m",
      "   \u001b[38;5;246m│\u001b[0m",
      " \u001b[38;5;246m2 │\u001b[0m \u001b[38;5;249mn\u001b[0m\u001b[38;5;249ma\u001b[0m\u001b[38;5;249mm\u001b[0m\u001b[38;5;249me\u001b[0m\u001b[38;5;249m \u001b[0m\u001b[38;5;249m=\u001b[0m\u001b[38;5;249m \u001b[0m\u001b[38;5;249m\"\u001b[0m\u001b[38;5;249mR\u001b[0m\u001b[38;5;249mu\u001b[0m\u001b[38;5;249ms\u001b[0m\u001b[38;5;249mt\u001b[0m\u001b[38;5;249m-\u001b[0m\u001b[38;5;249mJ\u001b[0m\u001b[38;5;249mo\u001b[0m\u001b[38;5;249mu\u001b[0m\u001b[38;5;249mr\u001b[0m\u001b[38;5;249mn\u001b[0m\u001b[38;5;249me\u001b[0m\u001b[38;5;249my\u001b[0m\u001b[38;5;249m\"\u001b[0m",
      " \u001b[38;5;240m  │\u001b[0m                      \u001b[38;5;100m│\u001b[0m ",
      " \u001b[38;5;240m  │\u001b[0m                      \u001b[38;5;100m╰\u001b[0m\u001b[38;5;100m─\u001b[0m error: expected `;`, found `version`",
      " \u001b[38;5;240m  │\u001b[0m                      \u001b[38;5;68m│\u001b[0m ",
      " \u001b[38;5;240m  │\u001b[0m                      \u001b[38;5;68m╰\u001b[0m\u001b[38;5;68m─\u001b[0m help: add `;` here: `;`",
      " \u001b[38;5;246m3 │\u001b[0m \u001b[38;5;54mv\u001b[0m\u001b[38;5;54me\u001b[0m\u001b[38;5;54mr\u001b[0m\u001b[38;5;54ms\u001b[0m\u001b[38;5;54mi\u001b[0m\u001b[38;5;54mo\u001b[0m\u001b[38;5;54mn\u001b[0m\u001b[38;5;249m \u001b[0m\u001b[38;5;249m=\u001b[0m\u001b[38;5;249m \u001b[0m\u001b[38;5;249m\"\u001b[0m\u001b[38;5;249m0\u001b[0m\u001b[38;5;249m.\u001b[0m\u001b[38;5;249m1\u001b[0m\u001b[38;5;249m.\u001b[0m\u001b[38;5;249m0\u001b[0m\u001b[38;5;249m\"\u001b[0m",
      " \u001b[38;5;240m  │\u001b[0m \u001b[38;5;54m─\u001b[0m\u001b[38;5;54m─\u001b[0m\u001b[38;5;54m─\u001b[0m\u001b[38;5;54m┬\u001b[0m\u001b[38;5;54m─\u001b[0m\u001b[38;5;54m─\u001b[0m\u001b[38;5;54m─\u001b[0m  ",
      " \u001b[38;5;240m  │\u001b[0m    \u001b[38;5;54m╰\u001b[0m\u001b[38;5;54m─\u001b[0m\u001b[38;5;54m─\u001b[0m\u001b[38;5;54m─\u001b[0m\u001b[38;5;54m─\u001b[0m\u001b[38;5;54m─\u001b[0m unexpected token",
      "\u001b[38;5;246m───╯\u001b[0m"
     ]
    },
    {
     "ename": "Error",
     "evalue": "expected `;`, found `edition`",
     "output_type": "error",
     "traceback": [
      "\u001b[31mError:\u001b[0m expected `;`, found `edition`",
      "   \u001b[38;5;246m╭\u001b[0m\u001b[38;5;246m─\u001b[0m\u001b[38;5;246m[\u001b[0mcommand_2:1:1\u001b[38;5;246m]\u001b[0m",
      "   \u001b[38;5;246m│\u001b[0m",
      " \u001b[38;5;246m3 │\u001b[0m \u001b[38;5;249mv\u001b[0m\u001b[38;5;249me\u001b[0m\u001b[38;5;249mr\u001b[0m\u001b[38;5;249ms\u001b[0m\u001b[38;5;249mi\u001b[0m\u001b[38;5;249mo\u001b[0m\u001b[38;5;249mn\u001b[0m\u001b[38;5;249m \u001b[0m\u001b[38;5;249m=\u001b[0m\u001b[38;5;249m \u001b[0m\u001b[38;5;249m\"\u001b[0m\u001b[38;5;249m0\u001b[0m\u001b[38;5;249m.\u001b[0m\u001b[38;5;249m1\u001b[0m\u001b[38;5;249m.\u001b[0m\u001b[38;5;249m0\u001b[0m\u001b[38;5;249m\"\u001b[0m",
      " \u001b[38;5;240m  │\u001b[0m                  \u001b[38;5;100m│\u001b[0m ",
      " \u001b[38;5;240m  │\u001b[0m                  \u001b[38;5;100m╰\u001b[0m\u001b[38;5;100m─\u001b[0m error: expected `;`, found `edition`",
      " \u001b[38;5;240m  │\u001b[0m                  \u001b[38;5;68m│\u001b[0m ",
      " \u001b[38;5;240m  │\u001b[0m                  \u001b[38;5;68m╰\u001b[0m\u001b[38;5;68m─\u001b[0m help: add `;` here: `;`",
      " \u001b[38;5;246m4 │\u001b[0m \u001b[38;5;54me\u001b[0m\u001b[38;5;54md\u001b[0m\u001b[38;5;54mi\u001b[0m\u001b[38;5;54mt\u001b[0m\u001b[38;5;54mi\u001b[0m\u001b[38;5;54mo\u001b[0m\u001b[38;5;54mn\u001b[0m\u001b[38;5;249m \u001b[0m\u001b[38;5;249m=\u001b[0m\u001b[38;5;249m \u001b[0m\u001b[38;5;249m\"\u001b[0m\u001b[38;5;249m2\u001b[0m\u001b[38;5;249m0\u001b[0m\u001b[38;5;249m2\u001b[0m\u001b[38;5;249m4\u001b[0m\u001b[38;5;249m\"\u001b[0m",
      " \u001b[38;5;240m  │\u001b[0m \u001b[38;5;54m─\u001b[0m\u001b[38;5;54m─\u001b[0m\u001b[38;5;54m─\u001b[0m\u001b[38;5;54m┬\u001b[0m\u001b[38;5;54m─\u001b[0m\u001b[38;5;54m─\u001b[0m\u001b[38;5;54m─\u001b[0m  ",
      " \u001b[38;5;240m  │\u001b[0m    \u001b[38;5;54m╰\u001b[0m\u001b[38;5;54m─\u001b[0m\u001b[38;5;54m─\u001b[0m\u001b[38;5;54m─\u001b[0m\u001b[38;5;54m─\u001b[0m\u001b[38;5;54m─\u001b[0m unexpected token",
      "\u001b[38;5;246m───╯\u001b[0m"
     ]
    },
    {
     "ename": "Error",
     "evalue": "expected `;`, found keyword `fn`",
     "output_type": "error",
     "traceback": [
      "\u001b[31mError:\u001b[0m expected `;`, found keyword `fn`",
      "   \u001b[38;5;246m╭\u001b[0m\u001b[38;5;246m─\u001b[0m\u001b[38;5;246m[\u001b[0mcommand_2:1:1\u001b[38;5;246m]\u001b[0m",
      "   \u001b[38;5;246m│\u001b[0m",
      " \u001b[38;5;246m6 │\u001b[0m \u001b[38;5;249m[\u001b[0m\u001b[38;5;249md\u001b[0m\u001b[38;5;249me\u001b[0m\u001b[38;5;249mp\u001b[0m\u001b[38;5;249me\u001b[0m\u001b[38;5;249mn\u001b[0m\u001b[38;5;249md\u001b[0m\u001b[38;5;249me\u001b[0m\u001b[38;5;249mn\u001b[0m\u001b[38;5;249mc\u001b[0m\u001b[38;5;249mi\u001b[0m\u001b[38;5;249me\u001b[0m\u001b[38;5;249ms\u001b[0m\u001b[38;5;249m]\u001b[0m",
      " \u001b[38;5;240m  │\u001b[0m               \u001b[38;5;54m│\u001b[0m ",
      " \u001b[38;5;240m  │\u001b[0m               \u001b[38;5;54m╰\u001b[0m\u001b[38;5;54m─\u001b[0m error: expected `;`, found keyword `fn`",
      " \u001b[38;5;240m  │\u001b[0m               \u001b[38;5;100m│\u001b[0m ",
      " \u001b[38;5;240m  │\u001b[0m               \u001b[38;5;100m╰\u001b[0m\u001b[38;5;100m─\u001b[0m help: add `;` here: `;`",
      "\u001b[38;5;246m───╯\u001b[0m"
     ]
    },
    {
     "ename": "Error",
     "evalue": "cannot find value `Library` in this scope",
     "output_type": "error",
     "traceback": [
      "\u001b[31m[E0425] Error:\u001b[0m cannot find value `Library` in this scope",
      "   \u001b[38;5;246m╭\u001b[0m\u001b[38;5;246m─\u001b[0m\u001b[38;5;246m[\u001b[0mcommand_2:1:1\u001b[38;5;246m]\u001b[0m",
      "   \u001b[38;5;246m│\u001b[0m",
      " \u001b[38;5;246m7 │\u001b[0m \u001b[38;5;54mL\u001b[0m\u001b[38;5;54mi\u001b[0m\u001b[38;5;54mb\u001b[0m\u001b[38;5;54mr\u001b[0m\u001b[38;5;54ma\u001b[0m\u001b[38;5;54mr\u001b[0m\u001b[38;5;54my\u001b[0m\u001b[38;5;249m \u001b[0m\u001b[38;5;249m=\u001b[0m\u001b[38;5;249m \u001b[0m\u001b[38;5;249m{\u001b[0m\u001b[38;5;249mp\u001b[0m\u001b[38;5;249ma\u001b[0m\u001b[38;5;249mt\u001b[0m\u001b[38;5;249mh\u001b[0m\u001b[38;5;249m \u001b[0m\u001b[38;5;249m=\u001b[0m\u001b[38;5;249m \u001b[0m\u001b[38;5;249m\"\u001b[0m\u001b[38;5;249m/\u001b[0m\u001b[38;5;249mU\u001b[0m\u001b[38;5;249ms\u001b[0m\u001b[38;5;249me\u001b[0m\u001b[38;5;249mr\u001b[0m\u001b[38;5;249ms\u001b[0m\u001b[38;5;249m/\u001b[0m\u001b[38;5;249mp\u001b[0m\u001b[38;5;249ma\u001b[0m\u001b[38;5;249mw\u001b[0m\u001b[38;5;249ma\u001b[0m\u001b[38;5;249mn\u001b[0m\u001b[38;5;249ma\u001b[0m\u001b[38;5;249md\u001b[0m\u001b[38;5;249mh\u001b[0m\u001b[38;5;249mi\u001b[0m\u001b[38;5;249mk\u001b[0m\u001b[38;5;249ma\u001b[0m\u001b[38;5;249mr\u001b[0m\u001b[38;5;249mi\u001b[0m\u001b[38;5;249m/\u001b[0m\u001b[38;5;249mD\u001b[0m\u001b[38;5;249mo\u001b[0m\u001b[38;5;249mc\u001b[0m\u001b[38;5;249mu\u001b[0m\u001b[38;5;249mm\u001b[0m\u001b[38;5;249me\u001b[0m\u001b[38;5;249mn\u001b[0m\u001b[38;5;249mt\u001b[0m\u001b[38;5;249ms\u001b[0m\u001b[38;5;249m/\u001b[0m\u001b[38;5;249mR\u001b[0m\u001b[38;5;249mo\u001b[0m\u001b[38;5;249ma\u001b[0m\u001b[38;5;249md\u001b[0m\u001b[38;5;249mm\u001b[0m\u001b[38;5;249ma\u001b[0m\u001b[38;5;249mp\u001b[0m\u001b[38;5;249m/\u001b[0m\u001b[38;5;249mR\u001b[0m\u001b[38;5;249mu\u001b[0m\u001b[38;5;249ms\u001b[0m\u001b[38;5;249mt\u001b[0m\u001b[38;5;249m/\u001b[0m\u001b[38;5;249mR\u001b[0m\u001b[38;5;249mu\u001b[0m\u001b[38;5;249ms\u001b[0m\u001b[38;5;249mt\u001b[0m\u001b[38;5;249m-\u001b[0m\u001b[38;5;249mJ\u001b[0m\u001b[38;5;249mo\u001b[0m\u001b[38;5;249mu\u001b[0m\u001b[38;5;249mr\u001b[0m\u001b[38;5;249mn\u001b[0m\u001b[38;5;249me\u001b[0m\u001b[38;5;249my\u001b[0m\u001b[38;5;249m/\u001b[0m\u001b[38;5;249mL\u001b[0m\u001b[38;5;249mi\u001b[0m\u001b[38;5;249mb\u001b[0m\u001b[38;5;249mr\u001b[0m\u001b[38;5;249ma\u001b[0m\u001b[38;5;249mr\u001b[0m\u001b[38;5;249my\u001b[0m\u001b[38;5;249m\"\u001b[0m\u001b[38;5;249m}\u001b[0m",
      " \u001b[38;5;240m  │\u001b[0m \u001b[38;5;100m┬\u001b[0m\u001b[38;5;54m─\u001b[0m\u001b[38;5;54m─\u001b[0m\u001b[38;5;54m┬\u001b[0m\u001b[38;5;54m─\u001b[0m\u001b[38;5;54m─\u001b[0m\u001b[38;5;54m─\u001b[0m  ",
      " \u001b[38;5;240m  │\u001b[0m \u001b[38;5;100m╰\u001b[0m\u001b[38;5;100m─\u001b[0m\u001b[38;5;100m─\u001b[0m\u001b[38;5;100m─\u001b[0m\u001b[38;5;100m─\u001b[0m\u001b[38;5;100m─\u001b[0m\u001b[38;5;100m─\u001b[0m\u001b[38;5;100m─\u001b[0m\u001b[38;5;100m─\u001b[0m help: you might have meant to introduce a new binding: `let `",
      " \u001b[38;5;240m  │\u001b[0m    \u001b[38;5;54m│\u001b[0m     ",
      " \u001b[38;5;240m  │\u001b[0m    \u001b[38;5;54m╰\u001b[0m\u001b[38;5;54m─\u001b[0m\u001b[38;5;54m─\u001b[0m\u001b[38;5;54m─\u001b[0m\u001b[38;5;54m─\u001b[0m\u001b[38;5;54m─\u001b[0m error: cannot find value `Library` in this scope",
      "\u001b[38;5;246m───╯\u001b[0m"
     ]
    },
    {
     "ename": "Error",
     "evalue": "expected value, found built-in attribute `path`",
     "output_type": "error",
     "traceback": [
      "\u001b[31m[E0423] Error:\u001b[0m expected value, found built-in attribute `path`",
      "   \u001b[38;5;246m╭\u001b[0m\u001b[38;5;246m─\u001b[0m\u001b[38;5;246m[\u001b[0mcommand_2:1:1\u001b[38;5;246m]\u001b[0m",
      "   \u001b[38;5;246m│\u001b[0m",
      " \u001b[38;5;246m7 │\u001b[0m \u001b[38;5;249mL\u001b[0m\u001b[38;5;249mi\u001b[0m\u001b[38;5;249mb\u001b[0m\u001b[38;5;249mr\u001b[0m\u001b[38;5;249ma\u001b[0m\u001b[38;5;249mr\u001b[0m\u001b[38;5;249my\u001b[0m\u001b[38;5;249m \u001b[0m\u001b[38;5;249m=\u001b[0m\u001b[38;5;249m \u001b[0m\u001b[38;5;249m{\u001b[0m\u001b[38;5;54mp\u001b[0m\u001b[38;5;54ma\u001b[0m\u001b[38;5;54mt\u001b[0m\u001b[38;5;54mh\u001b[0m\u001b[38;5;249m \u001b[0m\u001b[38;5;249m=\u001b[0m\u001b[38;5;249m \u001b[0m\u001b[38;5;249m\"\u001b[0m\u001b[38;5;249m/\u001b[0m\u001b[38;5;249mU\u001b[0m\u001b[38;5;249ms\u001b[0m\u001b[38;5;249me\u001b[0m\u001b[38;5;249mr\u001b[0m\u001b[38;5;249ms\u001b[0m\u001b[38;5;249m/\u001b[0m\u001b[38;5;249mp\u001b[0m\u001b[38;5;249ma\u001b[0m\u001b[38;5;249mw\u001b[0m\u001b[38;5;249ma\u001b[0m\u001b[38;5;249mn\u001b[0m\u001b[38;5;249ma\u001b[0m\u001b[38;5;249md\u001b[0m\u001b[38;5;249mh\u001b[0m\u001b[38;5;249mi\u001b[0m\u001b[38;5;249mk\u001b[0m\u001b[38;5;249ma\u001b[0m\u001b[38;5;249mr\u001b[0m\u001b[38;5;249mi\u001b[0m\u001b[38;5;249m/\u001b[0m\u001b[38;5;249mD\u001b[0m\u001b[38;5;249mo\u001b[0m\u001b[38;5;249mc\u001b[0m\u001b[38;5;249mu\u001b[0m\u001b[38;5;249mm\u001b[0m\u001b[38;5;249me\u001b[0m\u001b[38;5;249mn\u001b[0m\u001b[38;5;249mt\u001b[0m\u001b[38;5;249ms\u001b[0m\u001b[38;5;249m/\u001b[0m\u001b[38;5;249mR\u001b[0m\u001b[38;5;249mo\u001b[0m\u001b[38;5;249ma\u001b[0m\u001b[38;5;249md\u001b[0m\u001b[38;5;249mm\u001b[0m\u001b[38;5;249ma\u001b[0m\u001b[38;5;249mp\u001b[0m\u001b[38;5;249m/\u001b[0m\u001b[38;5;249mR\u001b[0m\u001b[38;5;249mu\u001b[0m\u001b[38;5;249ms\u001b[0m\u001b[38;5;249mt\u001b[0m\u001b[38;5;249m/\u001b[0m\u001b[38;5;249mR\u001b[0m\u001b[38;5;249mu\u001b[0m\u001b[38;5;249ms\u001b[0m\u001b[38;5;249mt\u001b[0m\u001b[38;5;249m-\u001b[0m\u001b[38;5;249mJ\u001b[0m\u001b[38;5;249mo\u001b[0m\u001b[38;5;249mu\u001b[0m\u001b[38;5;249mr\u001b[0m\u001b[38;5;249mn\u001b[0m\u001b[38;5;249me\u001b[0m\u001b[38;5;249my\u001b[0m\u001b[38;5;249m/\u001b[0m\u001b[38;5;249mL\u001b[0m\u001b[38;5;249mi\u001b[0m\u001b[38;5;249mb\u001b[0m\u001b[38;5;249mr\u001b[0m\u001b[38;5;249ma\u001b[0m\u001b[38;5;249mr\u001b[0m\u001b[38;5;249my\u001b[0m\u001b[38;5;249m\"\u001b[0m\u001b[38;5;249m}\u001b[0m",
      " \u001b[38;5;240m  │\u001b[0m            \u001b[38;5;54m─\u001b[0m\u001b[38;5;54m─\u001b[0m\u001b[38;5;54m┬\u001b[0m\u001b[38;5;54m─\u001b[0m  ",
      " \u001b[38;5;240m  │\u001b[0m              \u001b[38;5;54m╰\u001b[0m\u001b[38;5;54m─\u001b[0m\u001b[38;5;54m─\u001b[0m\u001b[38;5;54m─\u001b[0m not a value",
      "\u001b[38;5;246m───╯\u001b[0m"
     ]
    },
    {
     "ename": "Error",
     "evalue": "unnecessary braces around assigned value",
     "output_type": "error",
     "traceback": [
      "\u001b[31m[unused_braces] Error:\u001b[0m unnecessary braces around assigned value"
     ]
    }
   ],
   "source": [
    "[package]\n",
    "name = \"Rust-Journey\"\n",
    "version = \"0.1.0\"\n",
    "edition = \"2024\"\n",
    "\n",
    "[dependencies]\n",
    "Library = {path = \"/Users/pawanadhikari/Documents/Roadmap/Rust/Rust-Journey/Library\"}\n"
   ]
  },
  {
   "cell_type": "markdown",
   "id": "89534b5b-5dc4-44d4-a230-686feafda74d",
   "metadata": {},
   "source": [
    "This is a cargo.toml file for the project we want to use our dependency on. This file has a line under dependencies as:\n",
    "Library = {path = \"/Users/pawanadhikari/Documents/Roadmap/Rust/Rust-Journey/Library\"}\n",
    "\n",
    "We made a Library named Library project whose pub functions can be used in our current project.\n"
   ]
  },
  {
   "cell_type": "code",
   "execution_count": null,
   "id": "998430dc-5563-469d-86c6-af6f0090f7af",
   "metadata": {},
   "outputs": [
    {
     "ename": "Error",
     "evalue": "failed to resolve: use of undeclared type `Library`",
     "output_type": "error",
     "traceback": [
      "\u001b[31m[E0433] Error:\u001b[0m failed to resolve: use of undeclared type `Library`",
      "   \u001b[38;5;246m╭\u001b[0m\u001b[38;5;246m─\u001b[0m\u001b[38;5;246m[\u001b[0mcommand_3:1:1\u001b[38;5;246m]\u001b[0m",
      "   \u001b[38;5;246m│\u001b[0m",
      " \u001b[38;5;246m5 │\u001b[0m \u001b[38;5;249m \u001b[0m\u001b[38;5;249m \u001b[0m\u001b[38;5;249m \u001b[0m\u001b[38;5;249m \u001b[0m\u001b[38;5;249ml\u001b[0m\u001b[38;5;249me\u001b[0m\u001b[38;5;249mt\u001b[0m\u001b[38;5;249m \u001b[0m\u001b[38;5;249mn\u001b[0m\u001b[38;5;249me\u001b[0m\u001b[38;5;249mw\u001b[0m\u001b[38;5;249m_\u001b[0m\u001b[38;5;249ms\u001b[0m\u001b[38;5;249mt\u001b[0m\u001b[38;5;249mr\u001b[0m\u001b[38;5;249mi\u001b[0m\u001b[38;5;249mn\u001b[0m\u001b[38;5;249mg\u001b[0m\u001b[38;5;249m \u001b[0m\u001b[38;5;249m=\u001b[0m\u001b[38;5;249m \u001b[0m\u001b[38;5;54mL\u001b[0m\u001b[38;5;54mi\u001b[0m\u001b[38;5;54mb\u001b[0m\u001b[38;5;54mr\u001b[0m\u001b[38;5;54ma\u001b[0m\u001b[38;5;54mr\u001b[0m\u001b[38;5;54my\u001b[0m\u001b[38;5;249m:\u001b[0m\u001b[38;5;249m:\u001b[0m\u001b[38;5;249mr\u001b[0m\u001b[38;5;249me\u001b[0m\u001b[38;5;249ma\u001b[0m\u001b[38;5;249md\u001b[0m\u001b[38;5;249m_\u001b[0m\u001b[38;5;249ms\u001b[0m\u001b[38;5;249mt\u001b[0m\u001b[38;5;249md\u001b[0m\u001b[38;5;249mi\u001b[0m\u001b[38;5;249mn\u001b[0m\u001b[38;5;249m(\u001b[0m\u001b[38;5;249m)\u001b[0m\u001b[38;5;249m;\u001b[0m",
      " \u001b[38;5;240m  │\u001b[0m                      \u001b[38;5;54m─\u001b[0m\u001b[38;5;54m─\u001b[0m\u001b[38;5;54m─\u001b[0m\u001b[38;5;54m┬\u001b[0m\u001b[38;5;54m─\u001b[0m\u001b[38;5;54m─\u001b[0m\u001b[38;5;54m─\u001b[0m  ",
      " \u001b[38;5;240m  │\u001b[0m                         \u001b[38;5;54m╰\u001b[0m\u001b[38;5;54m─\u001b[0m\u001b[38;5;54m─\u001b[0m\u001b[38;5;54m─\u001b[0m\u001b[38;5;54m─\u001b[0m\u001b[38;5;54m─\u001b[0m use of undeclared type `Library`",
      "\u001b[38;5;246m───╯\u001b[0m"
     ]
    }
   ],
   "source": [
    " {\n",
    "    let new_string = Library::read_stdin();\n",
    "    println!(\"{}\",new_string);\n",
    "}"
   ]
  },
  {
   "cell_type": "markdown",
   "id": "aa50f67f-b83b-4b4b-ab17-d571f1be59de",
   "metadata": {},
   "source": [
    "Here, read_stdin() is a function that was declared in Library project which is now being used in the current project"
   ]
  },
  {
   "cell_type": "code",
   "execution_count": 2,
   "id": "94e90cd7-c105-4fd2-98e0-742c15edb62b",
   "metadata": {},
   "outputs": [],
   "source": [
    "//! Ansi color codes for uses in terminal output. With helper functions to wrap strings in colour codes.\n",
    "//!  # Examples:\n",
    "//! ```\n",
    "//! use Library::colors::{red, blue};\n",
    "//! use red_string = red(\"This is a red string\");\n",
    "//! use blue_string = blue(\"This is a blue string\");\n",
    "//! ```\n",
    "\n",
    "///returns a string with ANSI escape codes to color the text red\n",
    "/// # Examples:\n",
    "/// ```\n",
    "/// use Library::color::red;\n",
    "/// let red_string = red(\"This is a red string\");\n",
    "///```\n",
    "\n",
    "pub fn red(s: &str) -> String {\n",
    "    format!(\"\\x1b[31m{}\\x1b[0m\", s)\n",
    "}\n",
    "\n",
    "pub fn blue(s: &str) -> String {\n",
    "    format!(\"\\x1b[34m{}\\x1b[0m\", s)\n",
    "}"
   ]
  },
  {
   "cell_type": "markdown",
   "id": "6a37653d-c9e6-4bd5-8f19-3829d230a07f",
   "metadata": {},
   "source": [
    "Here, this is the content of color.rs file under src subdirectory of Lbrary crate. We have done alot of documentation here. /// is for documentation for color module and //! expands the documentation to lib.rs. we have also presented examples in the documentaion which can be run inside vscode using doctest. Also, we have to import the module into lib.rs as:"
   ]
  },
  {
   "cell_type": "code",
   "execution_count": null,
   "id": "17c110e1-4d62-44b8-8103-86183120bb0d",
   "metadata": {},
   "outputs": [
    {
     "ename": "Error",
     "evalue": "file not found for module `color`",
     "output_type": "error",
     "traceback": [
      "\u001b[31m[E0583] Error:\u001b[0m file not found for module `color`",
      "   \u001b[38;5;246m╭\u001b[0m\u001b[38;5;246m─\u001b[0m\u001b[38;5;246m[\u001b[0mcommand_3:1:1\u001b[38;5;246m]\u001b[0m",
      "   \u001b[38;5;246m│\u001b[0m",
      " \u001b[38;5;246m1 │\u001b[0m \u001b[38;5;54mp\u001b[0m\u001b[38;5;54mu\u001b[0m\u001b[38;5;54mb\u001b[0m\u001b[38;5;54m \u001b[0m\u001b[38;5;54mm\u001b[0m\u001b[38;5;54mo\u001b[0m\u001b[38;5;54md\u001b[0m\u001b[38;5;54m \u001b[0m\u001b[38;5;54mc\u001b[0m\u001b[38;5;54mo\u001b[0m\u001b[38;5;54ml\u001b[0m\u001b[38;5;54mo\u001b[0m\u001b[38;5;54mr\u001b[0m\u001b[38;5;54m;\u001b[0m",
      " \u001b[38;5;240m  │\u001b[0m \u001b[38;5;54m─\u001b[0m\u001b[38;5;54m─\u001b[0m\u001b[38;5;54m─\u001b[0m\u001b[38;5;54m─\u001b[0m\u001b[38;5;54m─\u001b[0m\u001b[38;5;54m─\u001b[0m\u001b[38;5;54m─\u001b[0m\u001b[38;5;54m┬\u001b[0m\u001b[38;5;54m─\u001b[0m\u001b[38;5;54m─\u001b[0m\u001b[38;5;54m─\u001b[0m\u001b[38;5;54m─\u001b[0m\u001b[38;5;54m─\u001b[0m\u001b[38;5;54m─\u001b[0m  ",
      " \u001b[38;5;240m  │\u001b[0m        \u001b[38;5;54m╰\u001b[0m\u001b[38;5;54m─\u001b[0m\u001b[38;5;54m─\u001b[0m\u001b[38;5;54m─\u001b[0m\u001b[38;5;54m─\u001b[0m\u001b[38;5;54m─\u001b[0m\u001b[38;5;54m─\u001b[0m\u001b[38;5;54m─\u001b[0m\u001b[38;5;54m─\u001b[0m error: file not found for module `color`",
      "\u001b[38;5;246m───╯\u001b[0m"
     ]
    }
   ],
   "source": [
    "pub mod color;"
   ]
  },
  {
   "cell_type": "code",
   "execution_count": 4,
   "id": "7e9d9d27-80f6-40f3-9ee6-bd8d373e4364",
   "metadata": {},
   "outputs": [],
   "source": [
    "//This is a configuration file for the Library crate.\n",
    "\n",
    "pub enum LogLevel\n",
    "{\n",
    "    Error,\n",
    "    Warning,\n",
    "    Info,\n",
    "    Debug,\n",
    "}\n",
    "\n",
    "pub enum LogOutput\n",
    "{\n",
    "    Stdout,\n",
    "    Stderr,\n",
    "    File(String), // File path as a string\n",
    "}\n",
    "\n",
    "///this struct contains the configuration for the Library crate.\n",
    "/// #Examples:\n",
    "/// ```\n",
    "/// use Library::config::{Config, LogLevel, LogOutput};\n",
    "/// let config = Config(enabled: false, log_level: LogLevel::Debug, log_output: LogOutput::Stderr);\n",
    "/// ```\n",
    "\n",
    "\n",
    "pub struct Config\n",
    "{\n",
    "    pub enabled : bool,\n",
    "    pub log_level: LogLevel,\n",
    "    pub log_output: LogOutput,\n",
    "}\n",
    "\n",
    "impl Config {\n",
    "    pub fn new() -> Self{\n",
    "        Self{\n",
    "            enabled: true,\n",
    "            log_level : LogLevel::Info,\n",
    "            log_output: LogOutput::Stdout,\n",
    "        }\n",
    "    }\n",
    "}"
   ]
  },
  {
   "cell_type": "markdown",
   "id": "57131960-7ed9-487d-a5e9-4dfcc79e2057",
   "metadata": {},
   "source": [
    "Key Terms\n",
    "Testing: The process of evaluating a program or system by running it under controlled conditions to ensure correctness, robustness, and reliability.\n",
    "\n",
    "Strongly Typed Language: A programming language that utilizes static typing, enforcing strict data types during compilation rather than runtime.\n",
    "\n",
    "Test Attribute: In Rust, a special attribute (#[test]) used to denote functions as tests in test modules or files.\n",
    "\n",
    "Integration Testing\n",
    "Definition: Tests the interaction between multiple units or components.\n",
    "\n",
    "Goal: Ensure that integrated parts work together correctly.\n",
    "\n",
    "Scope: Broader—includes communication between modules, services, or even databases.\n",
    "\n",
    "Dependencies: Often uses real components; some mocking possible for external services.\n",
    "\n",
    "Speed: Slower than unit tests due to setup and actual integrations.\n",
    "\n",
    "Example: Testing a complete checkout flow that includes user\n",
    "Unit Tests: Tests focusing on individual units, methods, or functions within a module or library file.\n",
    "\n",
    " Unit Testing\n",
    "Definition: Tests individual functions, methods, or classes in isolation.\n",
    "\n",
    "Goal: Ensure each unit of code works as expected independently.\n",
    "\n",
    "Scope: Very narrow—focuses on a single \"unit\" of code.\n",
    "\n",
    "Dependencies: Mocks/stubs are often used to isolate dependencies.\n",
    "\n",
    "Speed: Very fast to run.\n",
    "\n",
    "Example: Testing a function that calculates the total price after tax.\n",
    "Public vs Private Code: In Rust, code visibility can be controlled using the pub keyword for public access and without it (private) to restrict usage.\n",
    "\n",
    "Test Coverage: The degree of testing performed in a project, often measured as a percentage of lines of code tested or branches covered.\n",
    "\n",
    "Assertions: Statements used within tests to verify expected outcomes by comparing actual results with desired values.\n",
    "\n",
    "Buff Read: A Rust trait implementing read operations on buffered data streams; useful for reading from files and standard input/output."
   ]
  },
  {
   "cell_type": "code",
   "execution_count": null,
   "id": "1b678389-273d-4af7-bcca-61d2eecb19af",
   "metadata": {},
   "outputs": [
    {
     "ename": "Error",
     "evalue": "failed to resolve: use of undeclared type `Library`",
     "output_type": "error",
     "traceback": [
      "\u001b[31m[E0433] Error:\u001b[0m failed to resolve: use of undeclared type `Library`"
     ]
    },
    {
     "ename": "Error",
     "evalue": "failed to resolve: use of undeclared type `Library`",
     "output_type": "error",
     "traceback": [
      "\u001b[31m[E0433] Error:\u001b[0m failed to resolve: use of undeclared type `Library`"
     ]
    },
    {
     "ename": "Error",
     "evalue": "failed to resolve: use of undeclared type `Library`",
     "output_type": "error",
     "traceback": [
      "\u001b[31m[E0433] Error:\u001b[0m failed to resolve: use of undeclared type `Library`"
     ]
    },
    {
     "ename": "Error",
     "evalue": "failed to resolve: use of undeclared type `Library`",
     "output_type": "error",
     "traceback": [
      "\u001b[31m[E0433] Error:\u001b[0m failed to resolve: use of undeclared type `Library`"
     ]
    },
    {
     "ename": "Error",
     "evalue": "failed to resolve: use of undeclared type `Library`",
     "output_type": "error",
     "traceback": [
      "\u001b[31m[E0433] Error:\u001b[0m failed to resolve: use of undeclared type `Library`"
     ]
    },
    {
     "ename": "Error",
     "evalue": "failed to resolve: use of undeclared type `Library`",
     "output_type": "error",
     "traceback": [
      "\u001b[31m[E0433] Error:\u001b[0m failed to resolve: use of undeclared type `Library`"
     ]
    },
    {
     "ename": "Error",
     "evalue": "failed to resolve: use of undeclared type `Library`",
     "output_type": "error",
     "traceback": [
      "\u001b[31m[E0433] Error:\u001b[0m failed to resolve: use of undeclared type `Library`"
     ]
    },
    {
     "ename": "Error",
     "evalue": "unresolved import `Library`",
     "output_type": "error",
     "traceback": [
      "\u001b[31m[E0432] Error:\u001b[0m unresolved import `Library`"
     ]
    }
   ],
   "source": [
    "use Library::color::{self, blue, bold, green, red, reset, Color, ColorString};\n",
    "\n",
    "#[test]\n",
    "pub fn test_red_coloring()\n",
    "{\n",
    "    let mut color_string = ColorString {\n",
    "        color: Color::Red,\n",
    "        string: String::from(\"This is red\"),\n",
    "        colorized: String::new(),\n",
    "    };\n",
    "    ColorString::paint(&mut color_string);\n",
    "    assert_eq!(color_string.colorized, \"\\x1b[31mThis is red\\x1b[0m\");\n",
    "}"
   ]
  },
  {
   "cell_type": "markdown",
   "id": "a32fe664-421b-43d4-9fa0-74872c7a39f3",
   "metadata": {},
   "source": [
    "The line assert_eq! is the test case for this test. This test the following colors.rs file."
   ]
  },
  {
   "cell_type": "code",
   "execution_count": 6,
   "id": "6ee01c53-a94f-4b80-843c-c27dac679475",
   "metadata": {},
   "outputs": [],
   "source": [
    "//! Colorized output utilities for the terminal using ANSI escape codes.\n",
    "//! # Examples:\n",
    "//! ```\n",
    "//! use cli_utils::colors::*;\n",
    "//! println!(\"{}{}{}\", red(\"Red\"), green(\"Green\"), blue(\"Blue\"));\n",
    "//! ```\n",
    "\n",
    "/// Returns a string with the ANSI escape code for red.\n",
    "/// # Examples:\n",
    "/// ```\n",
    "/// use cli_utils::colors::*;\n",
    "/// println!(\"{}\", red(\"Red\"));\n",
    "/// ```\n",
    "\n",
    "pub fn red(s: &str) -> String {\n",
    "    format!(\"\\x1b[31m{}\\x1b[0m\", s)\n",
    "}\n",
    "\n",
    "pub fn green(s: &str) -> String {\n",
    "    format!(\"\\x1b[32m{}\\x1b[0m\", s)\n",
    "}\n",
    "\n",
    "pub fn blue(s: &str) -> String {\n",
    "    format!(\"\\x1b[34m{}\\x1b[0m\", s)\n",
    "}\n",
    "\n",
    "pub fn bold(s: &str) -> String {\n",
    "    format!(\"\\x1b[1m{}\\x1b[0m\", s)\n",
    "}\n",
    "\n",
    "pub fn reset(s: &str) -> String {\n",
    "    format!(\"\\x1b[0m{}\\x1b[0m\", s)\n",
    "}\n",
    "\n",
    "pub enum Color{\n",
    "    Red,\n",
    "    Green,\n",
    "    Blue,\n",
    "    Bold,\n",
    "}\n",
    "\n",
    "pub struct ColorString {\n",
    "    pub color: Color,\n",
    "    pub string: String,\n",
    "    pub colorized: String\n",
    "}\n",
    "\n",
    "impl ColorString {\n",
    "    // create a method that will use the string and color fields to create a colorized string and assign it to the colorized field\n",
    "    pub fn paint(&mut self) {\n",
    "        match self.color {\n",
    "            Color::Red => self.colorized = red(&self.string),\n",
    "            Color::Green => self.colorized = green(&self.string),\n",
    "            Color::Blue => self.colorized = blue(&self.string),\n",
    "            Color::Bold => self.colorized = bold(&self.string),\n",
    "        };\n",
    "    }\n",
    "\n",
    "    pub fn reset(&mut self) {\n",
    "        self.colorized = reset(&self.string);\n",
    "    }\n",
    "\n",
    "}"
   ]
  },
  {
   "cell_type": "code",
   "execution_count": null,
   "id": "182287b1-95a5-4350-86b3-eda008155220",
   "metadata": {},
   "outputs": [
    {
     "ename": "Error",
     "evalue": "file not found for module `config`",
     "output_type": "error",
     "traceback": [
      "\u001b[31m[E0583] Error:\u001b[0m file not found for module `config`",
      "   \u001b[38;5;246m╭\u001b[0m\u001b[38;5;246m─\u001b[0m\u001b[38;5;246m[\u001b[0mcommand_7:1:1\u001b[38;5;246m]\u001b[0m",
      "   \u001b[38;5;246m│\u001b[0m",
      " \u001b[38;5;246m4 │\u001b[0m \u001b[38;5;54mp\u001b[0m\u001b[38;5;54mu\u001b[0m\u001b[38;5;54mb\u001b[0m\u001b[38;5;54m \u001b[0m\u001b[38;5;54mm\u001b[0m\u001b[38;5;54mo\u001b[0m\u001b[38;5;54md\u001b[0m\u001b[38;5;54m \u001b[0m\u001b[38;5;54mc\u001b[0m\u001b[38;5;54mo\u001b[0m\u001b[38;5;54mn\u001b[0m\u001b[38;5;54mf\u001b[0m\u001b[38;5;54mi\u001b[0m\u001b[38;5;54mg\u001b[0m\u001b[38;5;54m;\u001b[0m",
      " \u001b[38;5;240m  │\u001b[0m \u001b[38;5;54m─\u001b[0m\u001b[38;5;54m─\u001b[0m\u001b[38;5;54m─\u001b[0m\u001b[38;5;54m─\u001b[0m\u001b[38;5;54m─\u001b[0m\u001b[38;5;54m─\u001b[0m\u001b[38;5;54m─\u001b[0m\u001b[38;5;54m┬\u001b[0m\u001b[38;5;54m─\u001b[0m\u001b[38;5;54m─\u001b[0m\u001b[38;5;54m─\u001b[0m\u001b[38;5;54m─\u001b[0m\u001b[38;5;54m─\u001b[0m\u001b[38;5;54m─\u001b[0m\u001b[38;5;54m─\u001b[0m  ",
      " \u001b[38;5;240m  │\u001b[0m        \u001b[38;5;54m╰\u001b[0m\u001b[38;5;54m─\u001b[0m\u001b[38;5;54m─\u001b[0m\u001b[38;5;54m─\u001b[0m\u001b[38;5;54m─\u001b[0m\u001b[38;5;54m─\u001b[0m\u001b[38;5;54m─\u001b[0m\u001b[38;5;54m─\u001b[0m\u001b[38;5;54m─\u001b[0m\u001b[38;5;54m─\u001b[0m error: file not found for module `config`",
      "\u001b[38;5;246m───╯\u001b[0m"
     ]
    },
    {
     "ename": "Error",
     "evalue": "file not found for module `color`",
     "output_type": "error",
     "traceback": [
      "\u001b[31m[E0583] Error:\u001b[0m file not found for module `color`",
      "   \u001b[38;5;246m╭\u001b[0m\u001b[38;5;246m─\u001b[0m\u001b[38;5;246m[\u001b[0mcommand_7:1:1\u001b[38;5;246m]\u001b[0m",
      "   \u001b[38;5;246m│\u001b[0m",
      " \u001b[38;5;246m3 │\u001b[0m \u001b[38;5;54mp\u001b[0m\u001b[38;5;54mu\u001b[0m\u001b[38;5;54mb\u001b[0m\u001b[38;5;54m \u001b[0m\u001b[38;5;54mm\u001b[0m\u001b[38;5;54mo\u001b[0m\u001b[38;5;54md\u001b[0m\u001b[38;5;54m \u001b[0m\u001b[38;5;54mc\u001b[0m\u001b[38;5;54mo\u001b[0m\u001b[38;5;54ml\u001b[0m\u001b[38;5;54mo\u001b[0m\u001b[38;5;54mr\u001b[0m\u001b[38;5;54m;\u001b[0m\u001b[38;5;249m \u001b[0m\u001b[38;5;249m/\u001b[0m\u001b[38;5;249m/\u001b[0m\u001b[38;5;249m \u001b[0m\u001b[38;5;249mD\u001b[0m\u001b[38;5;249me\u001b[0m\u001b[38;5;249mc\u001b[0m\u001b[38;5;249ml\u001b[0m\u001b[38;5;249ma\u001b[0m\u001b[38;5;249mr\u001b[0m\u001b[38;5;249me\u001b[0m\u001b[38;5;249m \u001b[0m\u001b[38;5;249mt\u001b[0m\u001b[38;5;249mh\u001b[0m\u001b[38;5;249me\u001b[0m\u001b[38;5;249m \u001b[0m\u001b[38;5;249mc\u001b[0m\u001b[38;5;249mo\u001b[0m\u001b[38;5;249ml\u001b[0m\u001b[38;5;249mo\u001b[0m\u001b[38;5;249mr\u001b[0m\u001b[38;5;249m \u001b[0m\u001b[38;5;249mm\u001b[0m\u001b[38;5;249mo\u001b[0m\u001b[38;5;249md\u001b[0m\u001b[38;5;249mu\u001b[0m\u001b[38;5;249ml\u001b[0m\u001b[38;5;249me\u001b[0m",
      " \u001b[38;5;240m  │\u001b[0m \u001b[38;5;54m─\u001b[0m\u001b[38;5;54m─\u001b[0m\u001b[38;5;54m─\u001b[0m\u001b[38;5;54m─\u001b[0m\u001b[38;5;54m─\u001b[0m\u001b[38;5;54m─\u001b[0m\u001b[38;5;54m─\u001b[0m\u001b[38;5;54m┬\u001b[0m\u001b[38;5;54m─\u001b[0m\u001b[38;5;54m─\u001b[0m\u001b[38;5;54m─\u001b[0m\u001b[38;5;54m─\u001b[0m\u001b[38;5;54m─\u001b[0m\u001b[38;5;54m─\u001b[0m  ",
      " \u001b[38;5;240m  │\u001b[0m        \u001b[38;5;54m╰\u001b[0m\u001b[38;5;54m─\u001b[0m\u001b[38;5;54m─\u001b[0m\u001b[38;5;54m─\u001b[0m\u001b[38;5;54m─\u001b[0m\u001b[38;5;54m─\u001b[0m\u001b[38;5;54m─\u001b[0m\u001b[38;5;54m─\u001b[0m\u001b[38;5;54m─\u001b[0m error: file not found for module `color`",
      "\u001b[38;5;246m───╯\u001b[0m"
     ]
    },
    {
     "ename": "Error",
     "evalue": "unused variable: `line`",
     "output_type": "error",
     "traceback": [
      "\u001b[31m[unused_variables] Error:\u001b[0m unused variable: `line`",
      "   \u001b[38;5;246m╭\u001b[0m\u001b[38;5;246m─\u001b[0m\u001b[38;5;246m[\u001b[0mcommand_7:1:1\u001b[38;5;246m]\u001b[0m",
      "   \u001b[38;5;246m│\u001b[0m",
      " \u001b[38;5;246m9 │\u001b[0m \u001b[38;5;249m \u001b[0m\u001b[38;5;249m \u001b[0m\u001b[38;5;249m \u001b[0m\u001b[38;5;249m \u001b[0m\u001b[38;5;249ml\u001b[0m\u001b[38;5;249me\u001b[0m\u001b[38;5;249mt\u001b[0m\u001b[38;5;249m \u001b[0m\u001b[38;5;249mm\u001b[0m\u001b[38;5;249mu\u001b[0m\u001b[38;5;249mt\u001b[0m\u001b[38;5;249m \u001b[0m\u001b[38;5;54ml\u001b[0m\u001b[38;5;54mi\u001b[0m\u001b[38;5;54mn\u001b[0m\u001b[38;5;54me\u001b[0m\u001b[38;5;249m \u001b[0m\u001b[38;5;249m=\u001b[0m\u001b[38;5;249m \u001b[0m\u001b[38;5;249mS\u001b[0m\u001b[38;5;249mt\u001b[0m\u001b[38;5;249mr\u001b[0m\u001b[38;5;249mi\u001b[0m\u001b[38;5;249mn\u001b[0m\u001b[38;5;249mg\u001b[0m\u001b[38;5;249m:\u001b[0m\u001b[38;5;249m:\u001b[0m\u001b[38;5;249mn\u001b[0m\u001b[38;5;249me\u001b[0m\u001b[38;5;249mw\u001b[0m\u001b[38;5;249m(\u001b[0m\u001b[38;5;249m)\u001b[0m\u001b[38;5;249m;\u001b[0m",
      " \u001b[38;5;240m  │\u001b[0m             \u001b[38;5;54m─\u001b[0m\u001b[38;5;54m─\u001b[0m\u001b[38;5;54m┬\u001b[0m\u001b[38;5;54m─\u001b[0m  ",
      " \u001b[38;5;240m  │\u001b[0m               \u001b[38;5;54m╰\u001b[0m\u001b[38;5;54m─\u001b[0m\u001b[38;5;54m─\u001b[0m\u001b[38;5;54m─\u001b[0m warning: unused variable: `line`",
      " \u001b[38;5;240m  │\u001b[0m               \u001b[38;5;100m│\u001b[0m   ",
      " \u001b[38;5;240m  │\u001b[0m               \u001b[38;5;100m╰\u001b[0m\u001b[38;5;100m─\u001b[0m\u001b[38;5;100m─\u001b[0m\u001b[38;5;100m─\u001b[0m help: if this is intentional, prefix it with an underscore: `_line`",
      "\u001b[38;5;246m───╯\u001b[0m"
     ]
    }
   ],
   "source": [
    "use std::io::{BufReader, BufRead};\n",
    "\n",
    "pub mod color; // Declare the color module\n",
    "pub mod config;\n",
    "\n",
    "pub fn read_stdin()-> String\n",
    "{\n",
    "    let stdin = std::io::stdin();\n",
    "    let mut line = String::new();\n",
    "    let mut reader: BufReader<_> = BufReader::new(stdin.lock());\n",
    "    _read_stdin(&mut reader)\n",
    "}\n",
    "\n",
    "fn _read_stdin<M: BufRead>(reader: &mut M) -> String {\n",
    "    let mut line = String::new();\n",
    "    reader.read_line(&mut line).expect(\"Failed to read line\");\n",
    "    line.trim().to_string() // Trim whitespace and return the line\n",
    "}\n",
    "\n",
    "#[cfg(test)]\n",
    "mod tests {\n",
    "    use crate::_read_stdin;\n",
    "    use std::io::Cursor;\n",
    "\n",
    "    #[test]\n",
    "    fn test_read_stdin() {\n",
    "        let mut reader = Cursor::new(\"Hello, World!\\n\");\n",
    "        let line = _read_stdin(&mut reader);\n",
    "        assert_eq!(line, \"Hello, World!\");\n",
    "    }\n",
    "}"
   ]
  },
  {
   "cell_type": "markdown",
   "id": "8b762d56-2446-4597-ba10-9386dc2f087a",
   "metadata": {},
   "source": [
    "This is a test for a public function in lib.rs. THis test is within lib.rs to test a private function name read_stdin(). before read_stdin() was independent and didn't call _read_stdin(). But for better testability, we splitted the function such that we obtain a helper function which takes an argument of type that has BufRead trait.\n",
    "What Are We Doing With <R: std::io::BufRead> Before ()?\n",
    "The <R: std::io::BufRead> syntax is declaring a generic type parameter for the function. Let’s break it down:\n",
    "\n",
    "<R>:\n",
    "\n",
    "This declares a generic type parameter named R. It means that the function can work with any type R, as long as it satisfies the constraints defined after the colon (:).\n",
    ": std::io::BufRead:\n",
    "\n",
    "This is a trait bound. It specifies that R must implement the BufRead trait.\n",
    "The compiler enforces this constraint, so you can only pass types to _read_stdin that implement BufRead.\n",
    "Why Use Generics?\n",
    "\n",
    "Generics allow the function to work with any type that satisfies the constraint, rather than being tied to a specific type like BufReader<std::io::StdinLock>.\n",
    "This makes the function reusable and flexible.\n",
    "\n",
    "Or in our case, we have replaced R with M to enunciate the fact that we can use anything to declare a temporary type following certain conditions. \n",
    "\n",
    "Then inside the new helper funcition, all things are same and we are returning a string that will be finally returned by Read_stdin(). So this function will work same as before for the user but within lib.rs we did some refactoring to ease testing process.\n",
    "\n",
    "Now about the test module:\n",
    "The tests module in your code is used to verify that the _read_stdin function works correctly. Here's a simple breakdown of what it does:\n",
    "\n",
    "Key Points:\n",
    "Purpose of the Test:\n",
    "\n",
    "The test checks if _read_stdin can correctly read a line of input and return it as a trimmed string.\n",
    "What the Test Does:\n",
    "\n",
    "It creates a mock input using Cursor, which simulates a reader (like standard input or a file).\n",
    "The mock input contains the string \"Hello, World!\\n\".\n",
    "It passes this mock input to _read_stdin.\n",
    "It then compares the output of _read_stdin with the expected result (\"Hello, World!\").\n",
    "How the Test Works:\n",
    "\n",
    "Cursor::new(\"Hello, World!\\n\") creates an in-memory reader that behaves like a file or standard input.\n",
    "_read_stdin(&mut reader) reads the line from the Cursor and trims it.\n",
    "assert_eq!(line, \"Hello, World!\") checks if the output matches the expected string. If it doesn't, the test will fail.\n",
    "Code Explanation:\n",
    "What Happens When You Run the Test:\n",
    "The test framework (cargo test) runs the test_read_stdin function.\n",
    "If _read_stdin correctly reads and trims the input, the test passes.\n",
    "If the output doesn't match \"Hello, World!\", the test fails, and you'll see an error message.\n",
    "Why Use Cursor?\n",
    "Cursor is used to simulate input for testing. Instead of relying on actual user input (like typing into the terminal), you can provide predefined input (\"Hello, World!\\n\") to test the function in a controlled way.\n",
    "\n",
    "This test ensures that _read_stdin behaves as expected when reading and trimming a line of input. Let me know if you'd like further clarification!"
   ]
  },
  {
   "cell_type": "markdown",
   "id": "411e2bfd-9628-411c-bcca-714e070d6973",
   "metadata": {},
   "source": [
    "Additionally, we can also add test failure messages durinf assertion."
   ]
  },
  {
   "cell_type": "code",
   "execution_count": null,
   "id": "96ed9cd0-3dec-457f-83b6-ca76950e8aed",
   "metadata": {},
   "outputs": [
    {
     "ename": "Error",
     "evalue": "this file contains an unclosed delimiter",
     "output_type": "error",
     "traceback": [
      "\u001b[31mError:\u001b[0m this file contains an unclosed delimiter",
      "   \u001b[38;5;246m╭\u001b[0m\u001b[38;5;246m─\u001b[0m\u001b[38;5;246m[\u001b[0mcommand_8:1:1\u001b[38;5;246m]\u001b[0m",
      "   \u001b[38;5;246m│\u001b[0m",
      " \u001b[38;5;246m2 │\u001b[0m \u001b[38;5;249m \u001b[0m\u001b[38;5;249m \u001b[0m\u001b[38;5;249m \u001b[0m\u001b[38;5;249m \u001b[0m\u001b[38;5;249mf\u001b[0m\u001b[38;5;249mn\u001b[0m\u001b[38;5;249m \u001b[0m\u001b[38;5;249mt\u001b[0m\u001b[38;5;249me\u001b[0m\u001b[38;5;249ms\u001b[0m\u001b[38;5;249mt\u001b[0m\u001b[38;5;249m_\u001b[0m\u001b[38;5;249mr\u001b[0m\u001b[38;5;249me\u001b[0m\u001b[38;5;249ma\u001b[0m\u001b[38;5;249md\u001b[0m\u001b[38;5;249m_\u001b[0m\u001b[38;5;249ms\u001b[0m\u001b[38;5;249mt\u001b[0m\u001b[38;5;249md\u001b[0m\u001b[38;5;249mi\u001b[0m\u001b[38;5;249mn\u001b[0m\u001b[38;5;249m(\u001b[0m\u001b[38;5;249m)\u001b[0m\u001b[38;5;249m \u001b[0m\u001b[38;5;54m{\u001b[0m",
      " \u001b[38;5;240m  │\u001b[0m                          \u001b[38;5;54m┬\u001b[0m  ",
      " \u001b[38;5;240m  │\u001b[0m                          \u001b[38;5;54m╰\u001b[0m\u001b[38;5;54m─\u001b[0m\u001b[38;5;54m─\u001b[0m unclosed delimiter",
      "\u001b[38;5;246m───╯\u001b[0m"
     ]
    }
   ],
   "source": [
    "    #[test]\n",
    "    fn test_read_stdin() {\n",
    "        let mut reader = Cursor::new(\"Hello, World!\\n\");\n",
    "        let line = _read_stdin(&mut reader);\n",
    "        assert_eq!(line, \"Hello, World!\",\"Line should be'Hello, World!'\" );"
   ]
  },
  {
   "cell_type": "code",
   "execution_count": null,
   "id": "17a4a41d-0f62-4bee-94d7-984064ba35e8",
   "metadata": {},
   "outputs": [],
   "source": []
  }
 ],
 "metadata": {
  "kernelspec": {
   "display_name": "Rust",
   "language": "rust",
   "name": "rust"
  },
  "language_info": {
   "codemirror_mode": "rust",
   "file_extension": ".rs",
   "mimetype": "text/rust",
   "name": "Rust",
   "pygment_lexer": "rust",
   "version": ""
  }
 },
 "nbformat": 4,
 "nbformat_minor": 5
}
