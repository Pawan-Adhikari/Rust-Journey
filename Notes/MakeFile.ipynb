{
 "cells": [
  {
   "cell_type": "markdown",
   "id": "c454746e-c5fb-4627-93b9-478d60e7bdef",
   "metadata": {},
   "source": [
    "# "
   ]
  },
  {
   "cell_type": "markdown",
   "id": "5fea2e1b-efdd-43de-b0e4-83dc03c1d447",
   "metadata": {},
   "source": []
  },
  {
   "cell_type": "markdown",
   "id": "1eea8fd1-c749-4b6d-b335-de83fb263ed6",
   "metadata": {},
   "source": [
    "Makefile:\n",
    "Automation scripts to define and run certain set of commands/tasks usually for compiling, testing, running or managing projects. \n",
    "\n",
    "Remember, \"automatic\" not \"autonomic\". You will still have to initialize.\n",
    "\n",
    "Make file has following syntax:\n",
    "\n",
    "target: dependencies\n",
    "    commands\n",
    "\n",
    "eg.\n",
    "build:\n",
    "    cargo build --release\n",
    "\n",
    "here, target is a label to the commands we are going to execute below. So, now instead of putting in full \"carho build --release\" , we can simply put \"make build\" into the terminal.\n",
    "Dependencies are the additional libraries that are required for thoses commands.\n",
    "\n",
    "Additionally, makefiles also have .PHONY: label1, label2, label3 ....\n",
    "line in them. This line is like function defnition where it will tell the makefile that it will have the following targets. This is especially important when there is a case of a file have name same as a target contained in current directory. For eg. if a file named build was already present in the directory, make build will do nothing thinking the file is uptodate.\n"
   ]
  },
  {
   "cell_type": "code",
   "execution_count": null,
   "id": "90672c53-65a6-475b-b403-52ae6e45a7f3",
   "metadata": {},
   "outputs": [
    {
     "ename": "Error",
     "evalue": "unknown start of token: \\",
     "output_type": "error",
     "traceback": [
      "\u001b[31mError:\u001b[0m unknown start of token: \\",
      "    \u001b[38;5;246m╭\u001b[0m\u001b[38;5;246m─\u001b[0m\u001b[38;5;246m[\u001b[0mcommand_2:1:1\u001b[38;5;246m]\u001b[0m",
      "    \u001b[38;5;246m│\u001b[0m",
      " \u001b[38;5;246m10 │\u001b[0m \u001b[38;5;249m \u001b[0m\u001b[38;5;249m \u001b[0m\u001b[38;5;249m \u001b[0m\u001b[38;5;249m \u001b[0m\u001b[38;5;249m@\u001b[0m\u001b[38;5;249mr\u001b[0m\u001b[38;5;249me\u001b[0m\u001b[38;5;249ma\u001b[0m\u001b[38;5;249md\u001b[0m\u001b[38;5;249m \u001b[0m\u001b[38;5;249m-\u001b[0m\u001b[38;5;249mp\u001b[0m\u001b[38;5;249m \u001b[0m\u001b[38;5;249m\"\u001b[0m\u001b[38;5;249mE\u001b[0m\u001b[38;5;249mn\u001b[0m\u001b[38;5;249mt\u001b[0m\u001b[38;5;249me\u001b[0m\u001b[38;5;249mr\u001b[0m\u001b[38;5;249m \u001b[0m\u001b[38;5;249mn\u001b[0m\u001b[38;5;249me\u001b[0m\u001b[38;5;249mw\u001b[0m\u001b[38;5;249m \u001b[0m\u001b[38;5;249mv\u001b[0m\u001b[38;5;249me\u001b[0m\u001b[38;5;249mr\u001b[0m\u001b[38;5;249ms\u001b[0m\u001b[38;5;249mi\u001b[0m\u001b[38;5;249mo\u001b[0m\u001b[38;5;249mn\u001b[0m\u001b[38;5;249m\"\u001b[0m\u001b[38;5;249m \u001b[0m\u001b[38;5;249mv\u001b[0m\u001b[38;5;249me\u001b[0m\u001b[38;5;249mr\u001b[0m\u001b[38;5;249ms\u001b[0m\u001b[38;5;249mi\u001b[0m\u001b[38;5;249mo\u001b[0m\u001b[38;5;249mn\u001b[0m\u001b[38;5;54m\\\u001b[0m",
      " \u001b[38;5;240m   │\u001b[0m                                         \u001b[38;5;54m┬\u001b[0m  ",
      " \u001b[38;5;240m   │\u001b[0m                                         \u001b[38;5;54m╰\u001b[0m\u001b[38;5;54m─\u001b[0m\u001b[38;5;54m─\u001b[0m error: unknown start of token: \\",
      "\u001b[38;5;246m────╯\u001b[0m"
     ]
    },
    {
     "ename": "Error",
     "evalue": "empty character literal",
     "output_type": "error",
     "traceback": [
      "\u001b[31mError:\u001b[0m empty character literal",
      "    \u001b[38;5;246m╭\u001b[0m\u001b[38;5;246m─\u001b[0m\u001b[38;5;246m[\u001b[0mcommand_2:1:1\u001b[38;5;246m]\u001b[0m",
      "    \u001b[38;5;246m│\u001b[0m",
      " \u001b[38;5;246m11 │\u001b[0m \u001b[38;5;249m \u001b[0m\u001b[38;5;249m \u001b[0m\u001b[38;5;249m \u001b[0m\u001b[38;5;249m \u001b[0m\u001b[38;5;249ms\u001b[0m\u001b[38;5;249me\u001b[0m\u001b[38;5;249md\u001b[0m\u001b[38;5;249m \u001b[0m\u001b[38;5;249m-\u001b[0m\u001b[38;5;249mi\u001b[0m\u001b[38;5;249m \u001b[0m\u001b[38;5;249m'\u001b[0m\u001b[38;5;249m'\u001b[0m",
      " \u001b[38;5;240m   │\u001b[0m             \u001b[38;5;54m│\u001b[0m ",
      " \u001b[38;5;240m   │\u001b[0m             \u001b[38;5;54m╰\u001b[0m\u001b[38;5;54m─\u001b[0m empty character literal",
      "\u001b[38;5;246m────╯\u001b[0m"
     ]
    },
    {
     "ename": "Error",
     "evalue": "expected expression, found `.`",
     "output_type": "error",
     "traceback": [
      "\u001b[31mError:\u001b[0m expected expression, found `.`",
      "   \u001b[38;5;246m╭\u001b[0m\u001b[38;5;246m─\u001b[0m\u001b[38;5;246m[\u001b[0mcommand_2:1:1\u001b[38;5;246m]\u001b[0m",
      "   \u001b[38;5;246m│\u001b[0m",
      " \u001b[38;5;246m1 │\u001b[0m \u001b[38;5;54m.\u001b[0m\u001b[38;5;249mP\u001b[0m\u001b[38;5;249mH\u001b[0m\u001b[38;5;249mO\u001b[0m\u001b[38;5;249mN\u001b[0m\u001b[38;5;249mY\u001b[0m\u001b[38;5;249m:\u001b[0m",
      " \u001b[38;5;240m  │\u001b[0m \u001b[38;5;54m┬\u001b[0m  ",
      " \u001b[38;5;240m  │\u001b[0m \u001b[38;5;54m╰\u001b[0m\u001b[38;5;54m─\u001b[0m\u001b[38;5;54m─\u001b[0m expected expression",
      "\u001b[38;5;246m───╯\u001b[0m"
     ]
    }
   ],
   "source": [
    ".PHONY:\n",
    "\n",
    "build:\n",
    "\tcargo build\n",
    "\n",
    "run:\n",
    "\tcargo run\n",
    "\n",
    "bump-version:\n",
    "\t@read -p \"Enter new version\" version\\\t\n",
    "\tsed -i ''\t"
   ]
  },
  {
   "cell_type": "code",
   "execution_count": null,
   "id": "02e3b24a-1bf8-4389-aeca-ae7aaa21a7e6",
   "metadata": {},
   "outputs": [],
   "source": [
    "🧱 Command 1:\n",
    "makefile\n",
    "Copy\n",
    "Edit\n",
    "@read -p \"Enter new version (e.g., 0.2.0): \" version; \\\n",
    "@: Tells make not to echo this line in the terminal.\n",
    "\n",
    "read -p \"...\" version: Shows the prompt \"Enter new version...\", and saves the user input to a variable named version.\n",
    "\n",
    "\\: Continues the command on the next line (because Makefile treats each line as a separate shell unless joined like this).\n",
    "\n",
    "🧱 Command 2:\n",
    "✅ sed\n",
    "A Unix command-line tool.\n",
    "\n",
    "Stands for: Stream EDitor.\n",
    "\n",
    "It reads and edits text in-place (meaning it changes the actual file, not just prints the result).\n",
    "\n",
    "✅ -i ''\n",
    "-i means edit the file in-place (no backup).\n",
    "\n",
    "'' (empty quotes) are required on macOS (unlike Linux).\n",
    "\n",
    "If you were on Linux, you'd just write -i.\n",
    "\n",
    "So:\n",
    "\n",
    "🔹 Edit the file directly, without making a backup copy.\n",
    "\n",
    "✅ \"s/^version = \\\".*\\\"/version = \\\"$$version\\\"/\"\n",
    "This is a sed substitution command.\n",
    "Let’s go piece by piece:\n",
    "\n",
    "s/.../.../\n",
    "Means: substitute the pattern on the left with the one on the right.\n",
    "\n",
    "^version = \\\".*\\\"\n",
    "This is the pattern to find:\n",
    "\n",
    "^ = beginning of a line\n",
    "\n",
    "version = \" = literal text\n",
    "\n",
    ".* = any number of characters (the current version number)\n",
    "\n",
    "\\\" = ending double quote\n",
    "\n",
    "So this matches a line like:\n",
    "\n",
    "toml\n",
    "Copy\n",
    "Edit\n",
    "version = \"0.1.0\"\n",
    "version = \\\"$$version\\\"\n",
    "This is the replacement part:\n",
    "\n",
    "It inserts: version = \"<your new version here>\".\n",
    "\n",
    "$$version is a trick in Makefiles:\n",
    "\n",
    "$$ becomes $ (because $ is special in Makefiles).\n",
    "\n",
    "$version gets the value the user typed in.\n",
    "\n",
    "✅ Cargo.toml\n",
    "This tells sed which file to edit.\n",
    "\n",
    "It's the standard config file in Rust projects where the version is declared.\n",
    "🧱 Command 3:\n",
    "makefile\n",
    "Copy\n",
    "Edit\n",
    "echo \"Version updated to $$version\"\n",
    "echo: Prints a message to the terminal.\n",
    "\n",
    "\"Version updated to $$version\": Just tells the user what the new version is. Again, $$version becomes $version when passed to the shell.\n",
    "\n"
   ]
  }
 ],
 "metadata": {
  "kernelspec": {
   "display_name": "Rust",
   "language": "rust",
   "name": "rust"
  },
  "language_info": {
   "codemirror_mode": "rust",
   "file_extension": ".rs",
   "mimetype": "text/rust",
   "name": "Rust",
   "pygment_lexer": "rust",
   "version": ""
  }
 },
 "nbformat": 4,
 "nbformat_minor": 5
}
