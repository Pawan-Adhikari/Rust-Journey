{
 "cells": [
  {
   "cell_type": "markdown",
   "id": "81af55fe-88dd-4bae-aa5d-456e210fd52a",
   "metadata": {},
   "source": [
    "Key Terms\n",
    "-Functions: Block of code to carry out specific task. Critical part of Rust as Rust is almost like a Pop.\n",
    "-Unit functions: Non return type functions.\n",
    "-Borrowing: Lending values to other parts of the code without taking ownership away from their original scopes.\n",
    "-Panic: Call syntax used to stop all execution in program.\n",
    "-Enumerator: Enum, is a data type representing a set of values where each value represents a distinct case.\n",
    "-Move: Rather than lending just the values(Like in case of borrowing), whole ownership is shifted from one scope to another.\n",
    "-Vector: Dyanmic array. Can shrink or grow.\n",
    "-Shadowing: Temporarily changing the definition and value of a variable within the same scope.\n",
    "\n"
   ]
  },
  {
   "cell_type": "markdown",
   "id": "0a781392-9b91-4d29-aa20-3202e8a08af9",
   "metadata": {},
   "source": [
    "Arguments\n",
    "\n"
   ]
  },
  {
   "cell_type": "code",
   "execution_count": 2,
   "id": "f1f80692-0876-4f11-a818-c35eda50ce4a",
   "metadata": {},
   "outputs": [
    {
     "name": "stdout",
     "output_type": "stream",
     "text": [
      "The sum is 15\n"
     ]
    },
    {
     "data": {
      "text/plain": [
       "()"
      ]
     },
     "execution_count": 2,
     "metadata": {},
     "output_type": "execute_result"
    }
   ],
   "source": [
    "fn sum(numbers: &[i32]) -> i32\n",
    "{\n",
    "    let mut result = 0;\n",
    "    for number in numbers\n",
    "    {\n",
    "        result += number;\n",
    "    }\n",
    "    result\n",
    "}\n",
    "{\n",
    "    let numbers = [1,2,3,4,5];\n",
    "    let result = sum(&numbers);\n",
    "    println!(\"The sum is {}\",result);\n",
    "}"
   ]
  },
  {
   "cell_type": "code",
   "execution_count": null,
   "id": "65835012-7c4a-4155-893f-8279483d39e2",
   "metadata": {},
   "outputs": [],
   "source": []
  }
 ],
 "metadata": {
  "kernelspec": {
   "display_name": "Rust",
   "language": "rust",
   "name": "rust"
  },
  "language_info": {
   "codemirror_mode": "rust",
   "file_extension": ".rs",
   "mimetype": "text/rust",
   "name": "Rust",
   "pygment_lexer": "rust",
   "version": ""
  }
 },
 "nbformat": 4,
 "nbformat_minor": 5
}
