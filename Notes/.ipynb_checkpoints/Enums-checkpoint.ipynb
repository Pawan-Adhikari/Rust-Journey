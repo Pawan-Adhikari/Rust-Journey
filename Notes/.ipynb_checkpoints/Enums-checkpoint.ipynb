{
 "cells": [
  {
   "cell_type": "markdown",
   "id": "f0dc78eb-0780-4204-969f-12bcff394a89",
   "metadata": {},
   "source": [
    "Key Terms\n",
    "Enum: An enum, short for enumerator, is a data type in Rust that allows you to define a set of possible values. It's used to create custom types that represent distinct variants or cases. Enums are powerful because they enable you to encapsulate related values and provide exhaustive matching capabilities through the match keyword.\n",
    "\n",
    "Variant: A variant is a specific case within an enum. Each enum can have multiple variants, which may optionally contain associated data. For example, in the text provided, there are enums like Shape, with two variants: Circle and Square. The Circle variant has an associated radius value, while the Square variant does not carry any additional data.\n",
    "\n",
    "Match keyword: The match keyword is a powerful control flow construct that enables exhaustive pattern matching against enums or other values. It checks each case to find the first match, making it an excellent way to handle different enum variants in Rust. The text demonstrates using match with enums like Shape, WineRegion, and more.\n",
    "\n",
    "Option: The Option type is a built-in enum provided by Rust that represents either the presence or absence of a value, denoted as Some(value) or None. It's often used to handle nullable values in other languages. The text explores using Option, including its unwrapping methods like unwrap().\n",
    "\n",
    "Sum type: A sum type is an enumeration that can hold a variant with associated data of some type D, allowing you to create instances containing different types or combinations of data. In Rust, enums are examples of sum types because they let you define multiple variants, each potentially carrying distinct information. The text demonstrates this concept through the Shape enum and its associated data (radius for circles and side length for squares).\n",
    "\n",
    "Associated functions/methods: In Rust, it's possible to extend enums with implementation blocks that contain associated functions or methods, just like structs. This enables you to add functionality specific to the enum type directly within the enum definition. The text showcases this by implementing a format_size() method for the FileSize enum.\n",
    "\n",
    "Vectors: A vector is a growable array-like data structure in Rust that can hold multiple values of the same type. In the context of enums, vectors are useful when you want to store and manipulate collections of related enum instances or variants. The text demonstrates using vectors with enums by defining a Shapes vector containing different shapes (circles and squares).\n",
    "\n",
    "Exhaustive matches: Exhaustive matching is the practice of handling all possible cases when working with enums, ensuring that every variant has been accounted for in your code. Rust's type system helps enforce exhaustiveness by requiring you to handle each enum variant or use a catch-all pattern (_) if needed. The text highlights this concept through examples like the taste() function dealing with wine grape variants.\n",
    "\n",
    "Non-exhaustive patterns: When working with enums, non-exhaustive patterns refer to cases where not all possible enum variants are explicitly handled in a match statement or conditional expression. Rust's compiler will warn you about missing arms (unhandled variants) unless you use the catch-all pattern _ or explicitly mark your enum as non-exhaustive using the ... syntax. The text demonstrates this concept through examples like the wine grape enumerator and its associated functions.\n",
    "\n"
   ]
  },
  {
   "cell_type": "code",
   "execution_count": 2,
   "id": "df6ec002-0713-4b6c-a495-e5a1ff323ece",
   "metadata": {},
   "outputs": [],
   "source": [
    "enum direction\n",
    "{\n",
    "    North,\n",
    "    South,\n",
    "    East,\n",
    "    West,\n",
    "    Unknown(String),\n",
    "}\n",
    "\n",
    "fn move_player(current_dir : direction)\n",
    "{\n",
    "    match current_dir\n",
    "    {\n",
    "        direction::North => println!(\"Moved North!\"),\n",
    "        direction::South => println!(\"Moved South!\"),\n",
    "        direction::East => println!(\"Moved East!\"),\n",
    "        direction::West => println!(\"Moved West!\"),\n",
    "        direction::Unknown(String) => println!(\"Not a valid direction\"),\n",
    "    }\n",
    "}\n",
    "\n",
    "fn main()\n",
    "{\n",
    "\n",
    "    move_player(direction::East);\n",
    "}"
   ]
  },
  {
   "cell_type": "code",
   "execution_count": null,
   "id": "d3511305-c654-407f-8dc8-4f8756771930",
   "metadata": {},
   "outputs": [],
   "source": []
  }
 ],
 "metadata": {
  "kernelspec": {
   "display_name": "Rust",
   "language": "rust",
   "name": "rust"
  },
  "language_info": {
   "codemirror_mode": "rust",
   "file_extension": ".rs",
   "mimetype": "text/rust",
   "name": "Rust",
   "pygment_lexer": "rust",
   "version": ""
  }
 },
 "nbformat": 4,
 "nbformat_minor": 5
}
